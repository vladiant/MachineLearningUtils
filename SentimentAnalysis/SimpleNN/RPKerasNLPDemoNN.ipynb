{
 "cells": [
  {
   "cell_type": "markdown",
   "metadata": {
    "id": "YDBNzanDGgWn"
   },
   "source": [
    "# NLP Demo Logistic Regression"
   ]
  },
  {
   "cell_type": "code",
   "execution_count": 1,
   "metadata": {},
   "outputs": [],
   "source": [
    "import pandas as pd"
   ]
  },
  {
   "cell_type": "code",
   "execution_count": 2,
   "metadata": {
    "id": "kew_aOg7GJ0P"
   },
   "outputs": [
    {
     "data": {
      "text/html": [
       "<div>\n",
       "<style scoped>\n",
       "    .dataframe tbody tr th:only-of-type {\n",
       "        vertical-align: middle;\n",
       "    }\n",
       "\n",
       "    .dataframe tbody tr th {\n",
       "        vertical-align: top;\n",
       "    }\n",
       "\n",
       "    .dataframe thead th {\n",
       "        text-align: right;\n",
       "    }\n",
       "</style>\n",
       "<table border=\"1\" class=\"dataframe\">\n",
       "  <thead>\n",
       "    <tr style=\"text-align: right;\">\n",
       "      <th></th>\n",
       "      <th>sentence</th>\n",
       "      <th>label</th>\n",
       "      <th>source</th>\n",
       "    </tr>\n",
       "  </thead>\n",
       "  <tbody>\n",
       "    <tr>\n",
       "      <th>0</th>\n",
       "      <td>Wow... Loved this place.</td>\n",
       "      <td>1</td>\n",
       "      <td>yelp</td>\n",
       "    </tr>\n",
       "    <tr>\n",
       "      <th>1</th>\n",
       "      <td>Crust is not good.</td>\n",
       "      <td>0</td>\n",
       "      <td>yelp</td>\n",
       "    </tr>\n",
       "    <tr>\n",
       "      <th>2</th>\n",
       "      <td>Not tasty and the texture was just nasty.</td>\n",
       "      <td>0</td>\n",
       "      <td>yelp</td>\n",
       "    </tr>\n",
       "    <tr>\n",
       "      <th>3</th>\n",
       "      <td>Stopped by during the late May bank holiday of...</td>\n",
       "      <td>1</td>\n",
       "      <td>yelp</td>\n",
       "    </tr>\n",
       "    <tr>\n",
       "      <th>4</th>\n",
       "      <td>The selection on the menu was great and so wer...</td>\n",
       "      <td>1</td>\n",
       "      <td>yelp</td>\n",
       "    </tr>\n",
       "  </tbody>\n",
       "</table>\n",
       "</div>"
      ],
      "text/plain": [
       "                                            sentence  label source\n",
       "0                           Wow... Loved this place.      1   yelp\n",
       "1                                 Crust is not good.      0   yelp\n",
       "2          Not tasty and the texture was just nasty.      0   yelp\n",
       "3  Stopped by during the late May bank holiday of...      1   yelp\n",
       "4  The selection on the menu was great and so wer...      1   yelp"
      ]
     },
     "execution_count": 2,
     "metadata": {},
     "output_type": "execute_result"
    }
   ],
   "source": [
    "filepath_dict = {\n",
    "    'yelp': 'data/yelp_labelled.txt',\n",
    "    'amazon': 'data/amazon_cells_labelled.txt',\n",
    "    'imdb': 'data/imdb_labelled.txt'\n",
    "}\n",
    "\n",
    "df_list = []\n",
    "\n",
    "for source, filepath in filepath_dict.items():\n",
    "  df = pd.read_csv(filepath, names=['sentence', 'label'], sep='\\t')\n",
    "  df['source'] = source\n",
    "  df_list.append(df)\n",
    "\n",
    "df = pd.concat(df_list)\n",
    "\n",
    "df.head()"
   ]
  },
  {
   "cell_type": "markdown",
   "metadata": {
    "id": "Cpd9nJyEKaUU"
   },
   "source": [
    "## Neural Network"
   ]
  },
  {
   "cell_type": "code",
   "execution_count": 3,
   "metadata": {
    "id": "xePplChgLN4s"
   },
   "outputs": [],
   "source": [
    "df_yelp = df[df['source'] == 'yelp']\n",
    "\n",
    "sentences = df_yelp['sentence'].values\n",
    "labels = df_yelp['label'].values"
   ]
  },
  {
   "cell_type": "code",
   "execution_count": 4,
   "metadata": {
    "id": "ir6SRI4fUiOy"
   },
   "outputs": [],
   "source": [
    "from sklearn.model_selection import train_test_split"
   ]
  },
  {
   "cell_type": "code",
   "execution_count": 5,
   "metadata": {},
   "outputs": [],
   "source": [
    "sentences_train, sentences_test, y_train, y_test = train_test_split(sentences, labels, test_size=0.25, random_state=1000)"
   ]
  },
  {
   "cell_type": "code",
   "execution_count": 6,
   "metadata": {},
   "outputs": [],
   "source": [
    "from sklearn.feature_extraction.text import CountVectorizer"
   ]
  },
  {
   "cell_type": "code",
   "execution_count": 7,
   "metadata": {
    "id": "5Gbtl60sW_vB"
   },
   "outputs": [
    {
     "data": {
      "text/plain": [
       "CountVectorizer()"
      ]
     },
     "execution_count": 7,
     "metadata": {},
     "output_type": "execute_result"
    }
   ],
   "source": [
    "vectorizer = CountVectorizer()\n",
    "vectorizer.fit(sentences_train)"
   ]
  },
  {
   "cell_type": "code",
   "execution_count": 8,
   "metadata": {},
   "outputs": [],
   "source": [
    "X_train = vectorizer.transform(sentences_train)\n",
    "X_test = vectorizer.transform(sentences_test)"
   ]
  },
  {
   "cell_type": "code",
   "execution_count": 9,
   "metadata": {
    "id": "FvTjGa8aYeA5"
   },
   "outputs": [],
   "source": [
    "import tensorflow.keras.models as models\n",
    "import tensorflow.keras.layers as layers"
   ]
  },
  {
   "cell_type": "code",
   "execution_count": 10,
   "metadata": {},
   "outputs": [],
   "source": [
    "model = models.Sequential()\n",
    "model.add(layers.Dense(10, input_dim=X_train.shape[1], activation='relu'))\n",
    "model.add(layers.Dense(1, activation='sigmoid'))"
   ]
  },
  {
   "cell_type": "code",
   "execution_count": 11,
   "metadata": {},
   "outputs": [
    {
     "name": "stdout",
     "output_type": "stream",
     "text": [
      "Model: \"sequential\"\n",
      "_________________________________________________________________\n",
      "Layer (type)                 Output Shape              Param #   \n",
      "=================================================================\n",
      "dense (Dense)                (None, 10)                17150     \n",
      "_________________________________________________________________\n",
      "dense_1 (Dense)              (None, 1)                 11        \n",
      "=================================================================\n",
      "Total params: 17,161\n",
      "Trainable params: 17,161\n",
      "Non-trainable params: 0\n",
      "_________________________________________________________________\n"
     ]
    }
   ],
   "source": [
    "model.summary()"
   ]
  },
  {
   "cell_type": "code",
   "execution_count": 12,
   "metadata": {},
   "outputs": [],
   "source": [
    "model.compile(\n",
    "    loss='binary_crossentropy',\n",
    "    optimizer='adam',\n",
    "    metrics=['accuracy']\n",
    ")"
   ]
  },
  {
   "cell_type": "code",
   "execution_count": 13,
   "metadata": {},
   "outputs": [
    {
     "name": "stdout",
     "output_type": "stream",
     "text": [
      "Epoch 1/100\n",
      "24/24 [==============================] - 0s 4ms/step - loss: 0.6933 - accuracy: 0.5227 - val_loss: 0.6896 - val_accuracy: 0.5760\n",
      "Epoch 2/100\n",
      "24/24 [==============================] - 0s 891us/step - loss: 0.6608 - accuracy: 0.7453 - val_loss: 0.6758 - val_accuracy: 0.6360\n",
      "Epoch 3/100\n",
      "24/24 [==============================] - 0s 948us/step - loss: 0.6224 - accuracy: 0.8427 - val_loss: 0.6545 - val_accuracy: 0.7120\n",
      "Epoch 4/100\n",
      "24/24 [==============================] - 0s 930us/step - loss: 0.5720 - accuracy: 0.8853 - val_loss: 0.6276 - val_accuracy: 0.7320\n",
      "Epoch 5/100\n",
      "24/24 [==============================] - 0s 930us/step - loss: 0.5142 - accuracy: 0.9147 - val_loss: 0.5974 - val_accuracy: 0.7640\n",
      "Epoch 6/100\n",
      "24/24 [==============================] - 0s 1ms/step - loss: 0.4557 - accuracy: 0.9307 - val_loss: 0.5705 - val_accuracy: 0.7760\n",
      "Epoch 7/100\n",
      "24/24 [==============================] - 0s 914us/step - loss: 0.4038 - accuracy: 0.9440 - val_loss: 0.5464 - val_accuracy: 0.7800\n",
      "Epoch 8/100\n",
      "24/24 [==============================] - 0s 928us/step - loss: 0.3572 - accuracy: 0.9507 - val_loss: 0.5244 - val_accuracy: 0.7840\n",
      "Epoch 9/100\n",
      "24/24 [==============================] - 0s 907us/step - loss: 0.3178 - accuracy: 0.9587 - val_loss: 0.5066 - val_accuracy: 0.7880\n",
      "Epoch 10/100\n",
      "24/24 [==============================] - 0s 824us/step - loss: 0.2824 - accuracy: 0.9653 - val_loss: 0.4917 - val_accuracy: 0.7840\n",
      "Epoch 11/100\n",
      "24/24 [==============================] - 0s 836us/step - loss: 0.2523 - accuracy: 0.9693 - val_loss: 0.4787 - val_accuracy: 0.7920\n",
      "Epoch 12/100\n",
      "24/24 [==============================] - 0s 790us/step - loss: 0.2263 - accuracy: 0.9800 - val_loss: 0.4653 - val_accuracy: 0.8000\n",
      "Epoch 13/100\n",
      "24/24 [==============================] - 0s 901us/step - loss: 0.2038 - accuracy: 0.9827 - val_loss: 0.4557 - val_accuracy: 0.8040\n",
      "Epoch 14/100\n",
      "24/24 [==============================] - 0s 833us/step - loss: 0.1844 - accuracy: 0.9867 - val_loss: 0.4481 - val_accuracy: 0.8080\n",
      "Epoch 15/100\n",
      "24/24 [==============================] - 0s 931us/step - loss: 0.1673 - accuracy: 0.9867 - val_loss: 0.4396 - val_accuracy: 0.8000\n",
      "Epoch 16/100\n",
      "24/24 [==============================] - 0s 848us/step - loss: 0.1524 - accuracy: 0.9867 - val_loss: 0.4347 - val_accuracy: 0.8000\n",
      "Epoch 17/100\n",
      "24/24 [==============================] - 0s 912us/step - loss: 0.1394 - accuracy: 0.9880 - val_loss: 0.4289 - val_accuracy: 0.7960\n",
      "Epoch 18/100\n",
      "24/24 [==============================] - 0s 896us/step - loss: 0.1278 - accuracy: 0.9907 - val_loss: 0.4262 - val_accuracy: 0.7960\n",
      "Epoch 19/100\n",
      "24/24 [==============================] - 0s 1ms/step - loss: 0.1174 - accuracy: 0.9907 - val_loss: 0.4214 - val_accuracy: 0.7960\n",
      "Epoch 20/100\n",
      "24/24 [==============================] - 0s 1ms/step - loss: 0.1083 - accuracy: 0.9933 - val_loss: 0.4176 - val_accuracy: 0.7920\n",
      "Epoch 21/100\n",
      "24/24 [==============================] - 0s 912us/step - loss: 0.1001 - accuracy: 0.9933 - val_loss: 0.4158 - val_accuracy: 0.7960\n",
      "Epoch 22/100\n",
      "24/24 [==============================] - 0s 932us/step - loss: 0.0927 - accuracy: 0.9933 - val_loss: 0.4135 - val_accuracy: 0.7960\n",
      "Epoch 23/100\n",
      "24/24 [==============================] - 0s 1ms/step - loss: 0.0862 - accuracy: 0.9933 - val_loss: 0.4111 - val_accuracy: 0.7960\n",
      "Epoch 24/100\n",
      "24/24 [==============================] - 0s 905us/step - loss: 0.0802 - accuracy: 0.9947 - val_loss: 0.4097 - val_accuracy: 0.7920\n",
      "Epoch 25/100\n",
      "24/24 [==============================] - 0s 952us/step - loss: 0.0749 - accuracy: 0.9973 - val_loss: 0.4087 - val_accuracy: 0.7960\n",
      "Epoch 26/100\n",
      "24/24 [==============================] - 0s 961us/step - loss: 0.0701 - accuracy: 0.9973 - val_loss: 0.4072 - val_accuracy: 0.8000\n",
      "Epoch 27/100\n",
      "24/24 [==============================] - 0s 1ms/step - loss: 0.0655 - accuracy: 0.9973 - val_loss: 0.4067 - val_accuracy: 0.8000\n",
      "Epoch 28/100\n",
      "24/24 [==============================] - 0s 891us/step - loss: 0.0615 - accuracy: 0.9973 - val_loss: 0.4065 - val_accuracy: 0.8000\n",
      "Epoch 29/100\n",
      "24/24 [==============================] - 0s 951us/step - loss: 0.0579 - accuracy: 0.9973 - val_loss: 0.4065 - val_accuracy: 0.8000\n",
      "Epoch 30/100\n",
      "24/24 [==============================] - 0s 935us/step - loss: 0.0543 - accuracy: 0.9973 - val_loss: 0.4063 - val_accuracy: 0.8000\n",
      "Epoch 31/100\n",
      "24/24 [==============================] - 0s 874us/step - loss: 0.0514 - accuracy: 0.9973 - val_loss: 0.4068 - val_accuracy: 0.7960\n",
      "Epoch 32/100\n",
      "24/24 [==============================] - 0s 904us/step - loss: 0.0484 - accuracy: 0.9987 - val_loss: 0.4064 - val_accuracy: 0.8040\n",
      "Epoch 33/100\n",
      "24/24 [==============================] - 0s 984us/step - loss: 0.0457 - accuracy: 0.9987 - val_loss: 0.4061 - val_accuracy: 0.8040\n",
      "Epoch 34/100\n",
      "24/24 [==============================] - 0s 1ms/step - loss: 0.0432 - accuracy: 0.9987 - val_loss: 0.4072 - val_accuracy: 0.8000\n",
      "Epoch 35/100\n",
      "24/24 [==============================] - 0s 872us/step - loss: 0.0409 - accuracy: 0.9987 - val_loss: 0.4077 - val_accuracy: 0.8000\n",
      "Epoch 36/100\n",
      "24/24 [==============================] - 0s 895us/step - loss: 0.0390 - accuracy: 0.9987 - val_loss: 0.4079 - val_accuracy: 0.8000\n",
      "Epoch 37/100\n",
      "24/24 [==============================] - 0s 910us/step - loss: 0.0368 - accuracy: 0.9987 - val_loss: 0.4094 - val_accuracy: 0.8040\n",
      "Epoch 38/100\n",
      "24/24 [==============================] - 0s 861us/step - loss: 0.0350 - accuracy: 0.9987 - val_loss: 0.4098 - val_accuracy: 0.8040\n",
      "Epoch 39/100\n",
      "24/24 [==============================] - 0s 865us/step - loss: 0.0334 - accuracy: 0.9987 - val_loss: 0.4113 - val_accuracy: 0.8040\n",
      "Epoch 40/100\n",
      "24/24 [==============================] - 0s 953us/step - loss: 0.0317 - accuracy: 0.9987 - val_loss: 0.4120 - val_accuracy: 0.8040\n",
      "Epoch 41/100\n",
      "24/24 [==============================] - 0s 982us/step - loss: 0.0302 - accuracy: 0.9987 - val_loss: 0.4131 - val_accuracy: 0.8040\n",
      "Epoch 42/100\n",
      "24/24 [==============================] - 0s 927us/step - loss: 0.0289 - accuracy: 0.9987 - val_loss: 0.4132 - val_accuracy: 0.8080\n",
      "Epoch 43/100\n",
      "24/24 [==============================] - 0s 977us/step - loss: 0.0276 - accuracy: 0.9987 - val_loss: 0.4144 - val_accuracy: 0.8080\n",
      "Epoch 44/100\n",
      "24/24 [==============================] - 0s 907us/step - loss: 0.0263 - accuracy: 0.9987 - val_loss: 0.4164 - val_accuracy: 0.8160\n",
      "Epoch 45/100\n",
      "24/24 [==============================] - 0s 818us/step - loss: 0.0253 - accuracy: 0.9987 - val_loss: 0.4179 - val_accuracy: 0.8120\n",
      "Epoch 46/100\n",
      "24/24 [==============================] - 0s 813us/step - loss: 0.0241 - accuracy: 0.9987 - val_loss: 0.4187 - val_accuracy: 0.8120\n",
      "Epoch 47/100\n",
      "24/24 [==============================] - 0s 834us/step - loss: 0.0231 - accuracy: 0.9987 - val_loss: 0.4195 - val_accuracy: 0.8040\n",
      "Epoch 48/100\n",
      "24/24 [==============================] - 0s 827us/step - loss: 0.0222 - accuracy: 0.9987 - val_loss: 0.4211 - val_accuracy: 0.8040\n",
      "Epoch 49/100\n",
      "24/24 [==============================] - 0s 825us/step - loss: 0.0213 - accuracy: 0.9987 - val_loss: 0.4229 - val_accuracy: 0.8080\n",
      "Epoch 50/100\n",
      "24/24 [==============================] - 0s 829us/step - loss: 0.0205 - accuracy: 0.9987 - val_loss: 0.4235 - val_accuracy: 0.8080\n",
      "Epoch 51/100\n",
      "24/24 [==============================] - 0s 848us/step - loss: 0.0196 - accuracy: 0.9987 - val_loss: 0.4246 - val_accuracy: 0.8040\n",
      "Epoch 52/100\n",
      "24/24 [==============================] - 0s 806us/step - loss: 0.0189 - accuracy: 0.9987 - val_loss: 0.4255 - val_accuracy: 0.8040\n",
      "Epoch 53/100\n",
      "24/24 [==============================] - 0s 831us/step - loss: 0.0181 - accuracy: 0.9987 - val_loss: 0.4278 - val_accuracy: 0.8040\n",
      "Epoch 54/100\n",
      "24/24 [==============================] - 0s 828us/step - loss: 0.0174 - accuracy: 0.9987 - val_loss: 0.4288 - val_accuracy: 0.8040\n",
      "Epoch 55/100\n",
      "24/24 [==============================] - 0s 855us/step - loss: 0.0168 - accuracy: 0.9987 - val_loss: 0.4308 - val_accuracy: 0.8040\n",
      "Epoch 56/100\n",
      "24/24 [==============================] - 0s 846us/step - loss: 0.0162 - accuracy: 0.9987 - val_loss: 0.4318 - val_accuracy: 0.8040\n",
      "Epoch 57/100\n",
      "24/24 [==============================] - 0s 853us/step - loss: 0.0156 - accuracy: 0.9987 - val_loss: 0.4331 - val_accuracy: 0.8040\n",
      "Epoch 58/100\n"
     ]
    },
    {
     "name": "stdout",
     "output_type": "stream",
     "text": [
      "24/24 [==============================] - 0s 859us/step - loss: 0.0151 - accuracy: 0.9987 - val_loss: 0.4346 - val_accuracy: 0.8040\n",
      "Epoch 59/100\n",
      "24/24 [==============================] - 0s 890us/step - loss: 0.0145 - accuracy: 0.9987 - val_loss: 0.4358 - val_accuracy: 0.8040\n",
      "Epoch 60/100\n",
      "24/24 [==============================] - 0s 849us/step - loss: 0.0140 - accuracy: 0.9987 - val_loss: 0.4381 - val_accuracy: 0.8040\n",
      "Epoch 61/100\n",
      "24/24 [==============================] - 0s 835us/step - loss: 0.0136 - accuracy: 1.0000 - val_loss: 0.4386 - val_accuracy: 0.8040\n",
      "Epoch 62/100\n",
      "24/24 [==============================] - 0s 1ms/step - loss: 0.0131 - accuracy: 1.0000 - val_loss: 0.4400 - val_accuracy: 0.8040\n",
      "Epoch 63/100\n",
      "24/24 [==============================] - 0s 1ms/step - loss: 0.0126 - accuracy: 1.0000 - val_loss: 0.4415 - val_accuracy: 0.8040\n",
      "Epoch 64/100\n",
      "24/24 [==============================] - 0s 919us/step - loss: 0.0122 - accuracy: 1.0000 - val_loss: 0.4434 - val_accuracy: 0.8040\n",
      "Epoch 65/100\n",
      "24/24 [==============================] - 0s 840us/step - loss: 0.0118 - accuracy: 1.0000 - val_loss: 0.4450 - val_accuracy: 0.8040\n",
      "Epoch 66/100\n",
      "24/24 [==============================] - 0s 867us/step - loss: 0.0114 - accuracy: 1.0000 - val_loss: 0.4467 - val_accuracy: 0.8000\n",
      "Epoch 67/100\n",
      "24/24 [==============================] - 0s 817us/step - loss: 0.0111 - accuracy: 1.0000 - val_loss: 0.4481 - val_accuracy: 0.8040\n",
      "Epoch 68/100\n",
      "24/24 [==============================] - 0s 847us/step - loss: 0.0107 - accuracy: 1.0000 - val_loss: 0.4500 - val_accuracy: 0.8040\n",
      "Epoch 69/100\n",
      "24/24 [==============================] - 0s 811us/step - loss: 0.0104 - accuracy: 1.0000 - val_loss: 0.4521 - val_accuracy: 0.8080\n",
      "Epoch 70/100\n",
      "24/24 [==============================] - 0s 823us/step - loss: 0.0101 - accuracy: 1.0000 - val_loss: 0.4536 - val_accuracy: 0.8040\n",
      "Epoch 71/100\n",
      "24/24 [==============================] - 0s 782us/step - loss: 0.0097 - accuracy: 1.0000 - val_loss: 0.4544 - val_accuracy: 0.8040\n",
      "Epoch 72/100\n",
      "24/24 [==============================] - 0s 836us/step - loss: 0.0094 - accuracy: 1.0000 - val_loss: 0.4564 - val_accuracy: 0.8040\n",
      "Epoch 73/100\n",
      "24/24 [==============================] - 0s 823us/step - loss: 0.0092 - accuracy: 1.0000 - val_loss: 0.4582 - val_accuracy: 0.8040\n",
      "Epoch 74/100\n",
      "24/24 [==============================] - 0s 832us/step - loss: 0.0089 - accuracy: 1.0000 - val_loss: 0.4594 - val_accuracy: 0.8040\n",
      "Epoch 75/100\n",
      "24/24 [==============================] - 0s 915us/step - loss: 0.0086 - accuracy: 1.0000 - val_loss: 0.4613 - val_accuracy: 0.8040\n",
      "Epoch 76/100\n",
      "24/24 [==============================] - 0s 945us/step - loss: 0.0084 - accuracy: 1.0000 - val_loss: 0.4626 - val_accuracy: 0.8040\n",
      "Epoch 77/100\n",
      "24/24 [==============================] - 0s 876us/step - loss: 0.0081 - accuracy: 1.0000 - val_loss: 0.4652 - val_accuracy: 0.8080\n",
      "Epoch 78/100\n",
      "24/24 [==============================] - 0s 876us/step - loss: 0.0079 - accuracy: 1.0000 - val_loss: 0.4666 - val_accuracy: 0.8080\n",
      "Epoch 79/100\n",
      "24/24 [==============================] - 0s 821us/step - loss: 0.0076 - accuracy: 1.0000 - val_loss: 0.4673 - val_accuracy: 0.8080\n",
      "Epoch 80/100\n",
      "24/24 [==============================] - 0s 854us/step - loss: 0.0074 - accuracy: 1.0000 - val_loss: 0.4695 - val_accuracy: 0.8080\n",
      "Epoch 81/100\n",
      "24/24 [==============================] - 0s 865us/step - loss: 0.0072 - accuracy: 1.0000 - val_loss: 0.4708 - val_accuracy: 0.8040\n",
      "Epoch 82/100\n",
      "24/24 [==============================] - 0s 839us/step - loss: 0.0070 - accuracy: 1.0000 - val_loss: 0.4728 - val_accuracy: 0.8120\n",
      "Epoch 83/100\n",
      "24/24 [==============================] - 0s 818us/step - loss: 0.0068 - accuracy: 1.0000 - val_loss: 0.4744 - val_accuracy: 0.8080\n",
      "Epoch 84/100\n",
      "24/24 [==============================] - 0s 832us/step - loss: 0.0067 - accuracy: 1.0000 - val_loss: 0.4769 - val_accuracy: 0.8080\n",
      "Epoch 85/100\n",
      "24/24 [==============================] - 0s 817us/step - loss: 0.0065 - accuracy: 1.0000 - val_loss: 0.4782 - val_accuracy: 0.8040\n",
      "Epoch 86/100\n",
      "24/24 [==============================] - 0s 797us/step - loss: 0.0063 - accuracy: 1.0000 - val_loss: 0.4796 - val_accuracy: 0.8080\n",
      "Epoch 87/100\n",
      "24/24 [==============================] - 0s 796us/step - loss: 0.0061 - accuracy: 1.0000 - val_loss: 0.4812 - val_accuracy: 0.8080\n",
      "Epoch 88/100\n",
      "24/24 [==============================] - 0s 818us/step - loss: 0.0060 - accuracy: 1.0000 - val_loss: 0.4830 - val_accuracy: 0.8080\n",
      "Epoch 89/100\n",
      "24/24 [==============================] - 0s 827us/step - loss: 0.0058 - accuracy: 1.0000 - val_loss: 0.4849 - val_accuracy: 0.8080\n",
      "Epoch 90/100\n",
      "24/24 [==============================] - 0s 825us/step - loss: 0.0057 - accuracy: 1.0000 - val_loss: 0.4859 - val_accuracy: 0.8040\n",
      "Epoch 91/100\n",
      "24/24 [==============================] - 0s 820us/step - loss: 0.0055 - accuracy: 1.0000 - val_loss: 0.4878 - val_accuracy: 0.8040\n",
      "Epoch 92/100\n",
      "24/24 [==============================] - 0s 883us/step - loss: 0.0054 - accuracy: 1.0000 - val_loss: 0.4897 - val_accuracy: 0.8040\n",
      "Epoch 93/100\n",
      "24/24 [==============================] - 0s 872us/step - loss: 0.0052 - accuracy: 1.0000 - val_loss: 0.4908 - val_accuracy: 0.8040\n",
      "Epoch 94/100\n",
      "24/24 [==============================] - 0s 872us/step - loss: 0.0051 - accuracy: 1.0000 - val_loss: 0.4932 - val_accuracy: 0.8040\n",
      "Epoch 95/100\n",
      "24/24 [==============================] - 0s 830us/step - loss: 0.0050 - accuracy: 1.0000 - val_loss: 0.4943 - val_accuracy: 0.8040\n",
      "Epoch 96/100\n",
      "24/24 [==============================] - 0s 906us/step - loss: 0.0049 - accuracy: 1.0000 - val_loss: 0.4963 - val_accuracy: 0.8040\n",
      "Epoch 97/100\n",
      "24/24 [==============================] - 0s 826us/step - loss: 0.0047 - accuracy: 1.0000 - val_loss: 0.4973 - val_accuracy: 0.8040\n",
      "Epoch 98/100\n",
      "24/24 [==============================] - 0s 832us/step - loss: 0.0046 - accuracy: 1.0000 - val_loss: 0.4996 - val_accuracy: 0.8040\n",
      "Epoch 99/100\n",
      "24/24 [==============================] - 0s 814us/step - loss: 0.0045 - accuracy: 1.0000 - val_loss: 0.5008 - val_accuracy: 0.8000\n",
      "Epoch 100/100\n",
      "24/24 [==============================] - 0s 852us/step - loss: 0.0044 - accuracy: 1.0000 - val_loss: 0.5024 - val_accuracy: 0.8000\n"
     ]
    }
   ],
   "source": [
    "history = model.fit(\n",
    "    X_train, \n",
    "    y_train, \n",
    "    epochs=100, \n",
    "    validation_data=(X_test, y_test)\n",
    ")"
   ]
  },
  {
   "cell_type": "code",
   "execution_count": 14,
   "metadata": {},
   "outputs": [
    {
     "name": "stdout",
     "output_type": "stream",
     "text": [
      "24/24 [==============================] - 0s 892us/step - loss: 0.0043 - accuracy: 1.0000\n",
      "8/8 [==============================] - 0s 610us/step - loss: 0.5024 - accuracy: 0.8000\n",
      "Training accuracy: 1.0000\n",
      "Testing accuracy: 0.8000\n"
     ]
    }
   ],
   "source": [
    "_, train_accuracy = model.evaluate(X_train, y_train)\n",
    "_, test_accuracy = model.evaluate(X_test, y_test)\n",
    "print(f'Training accuracy: {train_accuracy:.4f}')\n",
    "print(f'Testing accuracy: {test_accuracy:.4f}')"
   ]
  },
  {
   "cell_type": "code",
   "execution_count": 15,
   "metadata": {},
   "outputs": [],
   "source": [
    "import matplotlib.pyplot as plt"
   ]
  },
  {
   "cell_type": "code",
   "execution_count": 16,
   "metadata": {},
   "outputs": [],
   "source": [
    "plt.style.use('ggplot')"
   ]
  },
  {
   "cell_type": "code",
   "execution_count": 17,
   "metadata": {},
   "outputs": [],
   "source": [
    "def plot_history(history):\n",
    "    acc = history.history['accuracy']\n",
    "    val_acc = history.history['val_accuracy']\n",
    "    loss = history.history['loss']\n",
    "    val_loss = history.history['val_loss']\n",
    "    x = range(1, len(acc) + 1)\n",
    "\n",
    "    plt.figure(figsize=(12, 5))\n",
    "    plt.subplot(1, 2, 1)\n",
    "    plt.plot(x, acc, 'b', label='Training acc')\n",
    "    plt.plot(x, val_acc, 'r', label='Validation acc')\n",
    "    plt.title('Training and validation accuracy')\n",
    "    plt.legend()\n",
    "    plt.subplot(1, 2, 2)\n",
    "    plt.plot(x, loss, 'b', label='Training loss')\n",
    "    plt.plot(x, val_loss, 'r', label='Validation loss')\n",
    "    plt.title('Training and validation loss')\n",
    "    plt.legend()"
   ]
  },
  {
   "cell_type": "code",
   "execution_count": 18,
   "metadata": {},
   "outputs": [
    {
     "data": {
      "image/png": "[encoded data removed]",
      "text/plain": [
       "<Figure size 864x360 with 2 Axes>"
      ]
     },
     "metadata": {},
     "output_type": "display_data"
    }
   ],
   "source": [
    "plot_history(history)"
   ]
  }
 ],
 "metadata": {
  "colab": {
   "collapsed_sections": [],
   "name": "RPKerasNLPDemo",
   "provenance": []
  },
  "kernelspec": {
   "display_name": "Python 3",
   "language": "python",
   "name": "python3"
  },
  "language_info": {
   "codemirror_mode": {
    "name": "ipython",
    "version": 3
   },
   "file_extension": ".py",
   "mimetype": "text/x-python",
   "name": "python",
   "nbconvert_exporter": "python",
   "pygments_lexer": "ipython3",
   "version": "3.8.5"
  }
 },
 "nbformat": 4,
 "nbformat_minor": 1
}
