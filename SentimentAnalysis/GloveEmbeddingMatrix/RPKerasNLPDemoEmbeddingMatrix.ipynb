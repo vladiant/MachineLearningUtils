{
 "cells": [
  {
   "cell_type": "markdown",
   "metadata": {
    "id": "rjCC8mpmLbp2"
   },
   "source": [
    "## Lesson 8"
   ]
  },
  {
   "cell_type": "code",
   "execution_count": 1,
   "metadata": {},
   "outputs": [],
   "source": [
    "import pandas as pd"
   ]
  },
  {
   "cell_type": "code",
   "execution_count": 2,
   "metadata": {},
   "outputs": [
    {
     "data": {
      "text/html": [
       "<div>\n",
       "<style scoped>\n",
       "    .dataframe tbody tr th:only-of-type {\n",
       "        vertical-align: middle;\n",
       "    }\n",
       "\n",
       "    .dataframe tbody tr th {\n",
       "        vertical-align: top;\n",
       "    }\n",
       "\n",
       "    .dataframe thead th {\n",
       "        text-align: right;\n",
       "    }\n",
       "</style>\n",
       "<table border=\"1\" class=\"dataframe\">\n",
       "  <thead>\n",
       "    <tr style=\"text-align: right;\">\n",
       "      <th></th>\n",
       "      <th>sentence</th>\n",
       "      <th>label</th>\n",
       "      <th>source</th>\n",
       "    </tr>\n",
       "  </thead>\n",
       "  <tbody>\n",
       "    <tr>\n",
       "      <th>0</th>\n",
       "      <td>Wow... Loved this place.</td>\n",
       "      <td>1</td>\n",
       "      <td>yelp</td>\n",
       "    </tr>\n",
       "    <tr>\n",
       "      <th>1</th>\n",
       "      <td>Crust is not good.</td>\n",
       "      <td>0</td>\n",
       "      <td>yelp</td>\n",
       "    </tr>\n",
       "    <tr>\n",
       "      <th>2</th>\n",
       "      <td>Not tasty and the texture was just nasty.</td>\n",
       "      <td>0</td>\n",
       "      <td>yelp</td>\n",
       "    </tr>\n",
       "    <tr>\n",
       "      <th>3</th>\n",
       "      <td>Stopped by during the late May bank holiday of...</td>\n",
       "      <td>1</td>\n",
       "      <td>yelp</td>\n",
       "    </tr>\n",
       "    <tr>\n",
       "      <th>4</th>\n",
       "      <td>The selection on the menu was great and so wer...</td>\n",
       "      <td>1</td>\n",
       "      <td>yelp</td>\n",
       "    </tr>\n",
       "  </tbody>\n",
       "</table>\n",
       "</div>"
      ],
      "text/plain": [
       "                                            sentence  label source\n",
       "0                           Wow... Loved this place.      1   yelp\n",
       "1                                 Crust is not good.      0   yelp\n",
       "2          Not tasty and the texture was just nasty.      0   yelp\n",
       "3  Stopped by during the late May bank holiday of...      1   yelp\n",
       "4  The selection on the menu was great and so wer...      1   yelp"
      ]
     },
     "execution_count": 2,
     "metadata": {},
     "output_type": "execute_result"
    }
   ],
   "source": [
    "filepath_dict = {\n",
    "    'yelp': 'data/yelp_labelled.txt',\n",
    "    'amazon': 'data/amazon_cells_labelled.txt',\n",
    "    'imdb': 'data/imdb_labelled.txt'\n",
    "}\n",
    "\n",
    "df_list = []\n",
    "\n",
    "for source, filepath in filepath_dict.items():\n",
    "  df = pd.read_csv(filepath, names=['sentence', 'label'], sep='\\t')\n",
    "  df['source'] = source\n",
    "  df_list.append(df)\n",
    "\n",
    "df = pd.concat(df_list)\n",
    "\n",
    "df.head()"
   ]
  },
  {
   "cell_type": "code",
   "execution_count": 3,
   "metadata": {},
   "outputs": [],
   "source": [
    "from sklearn.model_selection import train_test_split"
   ]
  },
  {
   "cell_type": "code",
   "execution_count": 4,
   "metadata": {},
   "outputs": [],
   "source": [
    "df_yelp = df[df['source'] == 'yelp']\n",
    "\n",
    "sentences = df_yelp['sentence'].values\n",
    "labels = df_yelp['label'].values\n",
    "\n",
    "sentences_train, sentences_test, y_train, y_test = train_test_split(sentences, labels, test_size=0.25, random_state=1000)"
   ]
  },
  {
   "cell_type": "code",
   "execution_count": 5,
   "metadata": {},
   "outputs": [],
   "source": [
    "from tensorflow.keras.preprocessing.text import Tokenizer"
   ]
  },
  {
   "cell_type": "code",
   "execution_count": 6,
   "metadata": {},
   "outputs": [],
   "source": [
    "tokenizer = Tokenizer(num_words=5000)\n",
    "tokenizer.fit_on_texts(sentences_train)"
   ]
  },
  {
   "cell_type": "code",
   "execution_count": 7,
   "metadata": {},
   "outputs": [],
   "source": [
    "X_train = tokenizer.texts_to_sequences(sentences_train)\n",
    "X_test = tokenizer.texts_to_sequences(sentences_test)"
   ]
  },
  {
   "cell_type": "code",
   "execution_count": 8,
   "metadata": {},
   "outputs": [],
   "source": [
    "from tensorflow.keras.preprocessing.sequence import pad_sequences"
   ]
  },
  {
   "cell_type": "code",
   "execution_count": 9,
   "metadata": {},
   "outputs": [],
   "source": [
    "X_train = pad_sequences(X_train, padding='post', maxlen=100)\n",
    "X_test = pad_sequences(X_test, padding='post', maxlen=100)"
   ]
  },
  {
   "cell_type": "code",
   "execution_count": 10,
   "metadata": {},
   "outputs": [],
   "source": [
    "import numpy as np "
   ]
  },
  {
   "cell_type": "code",
   "execution_count": 11,
   "metadata": {
    "id": "JKjQcQyW29EL"
   },
   "outputs": [],
   "source": [
    "def create_embedding_matrix(filepath, word_index, embedding_dim):\n",
    "  vocab_size = len(word_index) + 1\n",
    "  embedding_matrix = np.zeros((vocab_size, embedding_dim))\n",
    "\n",
    "  with open(filepath) as f:\n",
    "    for line in f:\n",
    "      word, *vector = line.split()\n",
    "      if word in word_index:\n",
    "        idx = word_index[word]\n",
    "        embedding_matrix[idx] = np.array(vector, dtype=np.float32)[:embedding_dim]\n",
    "\n",
    "  return embedding_matrix "
   ]
  },
  {
   "cell_type": "code",
   "execution_count": 12,
   "metadata": {
    "id": "eUbQMSIj4Aiw"
   },
   "outputs": [],
   "source": [
    "embedding_matrix = create_embedding_matrix('glove.6B.50d.txt', tokenizer.word_index, 50)"
   ]
  },
  {
   "cell_type": "code",
   "execution_count": 13,
   "metadata": {
    "id": "3lhToLf94Ko7"
   },
   "outputs": [
    {
     "data": {
      "text/plain": [
       "(1747, 50)"
      ]
     },
     "execution_count": 13,
     "metadata": {},
     "output_type": "execute_result"
    }
   ],
   "source": [
    "embedding_matrix.shape"
   ]
  },
  {
   "cell_type": "code",
   "execution_count": 14,
   "metadata": {
    "id": "2lMxo_0G4xyv"
   },
   "outputs": [
    {
     "data": {
      "text/plain": [
       "0.9507727532913566"
      ]
     },
     "execution_count": 14,
     "metadata": {},
     "output_type": "execute_result"
    }
   ],
   "source": [
    "nonzero_elements = np.count_nonzero(np.count_nonzero(embedding_matrix, axis=1))\n",
    "nonzero_elements / (len(tokenizer.word_index) + 1)"
   ]
  },
  {
   "cell_type": "code",
   "execution_count": 15,
   "metadata": {},
   "outputs": [],
   "source": [
    "import tensorflow.keras.models as models\n",
    "import tensorflow.keras.layers as layers"
   ]
  },
  {
   "cell_type": "code",
   "execution_count": 16,
   "metadata": {
    "id": "DHoUUcul4--2"
   },
   "outputs": [],
   "source": [
    "model = models.Sequential()\n",
    "model.add(layers.Embedding(\n",
    "    input_dim=len(tokenizer.word_index) + 1, \n",
    "    output_dim=50, \n",
    "    input_length=100,\n",
    "    weights=[embedding_matrix],\n",
    "    trainable=False))\n",
    "model.add(layers.GlobalMaxPool1D())\n",
    "model.add(layers.Dense(10, activation='relu'))\n",
    "model.add(layers.Dense(1, activation='sigmoid'))\n",
    "model.compile(\n",
    "    loss='binary_crossentropy', \n",
    "    optimizer='adam', \n",
    "    metrics=['accuracy']\n",
    ")"
   ]
  },
  {
   "cell_type": "code",
   "execution_count": 17,
   "metadata": {
    "id": "iYgp4CO050Eu"
   },
   "outputs": [
    {
     "name": "stdout",
     "output_type": "stream",
     "text": [
      "Epoch 1/50\n",
      "75/75 [==============================] - 0s 2ms/step - loss: 0.7112 - accuracy: 0.5280 - val_loss: 0.6958 - val_accuracy: 0.4880\n",
      "Epoch 2/50\n",
      "75/75 [==============================] - 0s 721us/step - loss: 0.6806 - accuracy: 0.5600 - val_loss: 0.6878 - val_accuracy: 0.5520\n",
      "Epoch 3/50\n",
      "75/75 [==============================] - 0s 726us/step - loss: 0.6700 - accuracy: 0.5960 - val_loss: 0.6814 - val_accuracy: 0.5560\n",
      "Epoch 4/50\n",
      "75/75 [==============================] - 0s 696us/step - loss: 0.6600 - accuracy: 0.6080 - val_loss: 0.6837 - val_accuracy: 0.5400\n",
      "Epoch 5/50\n",
      "75/75 [==============================] - 0s 687us/step - loss: 0.6556 - accuracy: 0.6040 - val_loss: 0.6764 - val_accuracy: 0.5880\n",
      "Epoch 6/50\n",
      "75/75 [==============================] - 0s 702us/step - loss: 0.6378 - accuracy: 0.6320 - val_loss: 0.6668 - val_accuracy: 0.5960\n",
      "Epoch 7/50\n",
      "75/75 [==============================] - 0s 725us/step - loss: 0.6251 - accuracy: 0.6533 - val_loss: 0.6592 - val_accuracy: 0.6120\n",
      "Epoch 8/50\n",
      "75/75 [==============================] - 0s 712us/step - loss: 0.6127 - accuracy: 0.6600 - val_loss: 0.6549 - val_accuracy: 0.6080\n",
      "Epoch 9/50\n",
      "75/75 [==============================] - 0s 690us/step - loss: 0.6093 - accuracy: 0.6693 - val_loss: 0.6513 - val_accuracy: 0.6240\n",
      "Epoch 10/50\n",
      "75/75 [==============================] - 0s 706us/step - loss: 0.5941 - accuracy: 0.6973 - val_loss: 0.6394 - val_accuracy: 0.6280\n",
      "Epoch 11/50\n",
      "75/75 [==============================] - 0s 698us/step - loss: 0.5865 - accuracy: 0.7000 - val_loss: 0.6322 - val_accuracy: 0.6480\n",
      "Epoch 12/50\n",
      "75/75 [==============================] - 0s 689us/step - loss: 0.5819 - accuracy: 0.7040 - val_loss: 0.6293 - val_accuracy: 0.6440\n",
      "Epoch 13/50\n",
      "75/75 [==============================] - 0s 717us/step - loss: 0.5770 - accuracy: 0.6920 - val_loss: 0.6235 - val_accuracy: 0.6400\n",
      "Epoch 14/50\n",
      "75/75 [==============================] - 0s 676us/step - loss: 0.5736 - accuracy: 0.7027 - val_loss: 0.6192 - val_accuracy: 0.6840\n",
      "Epoch 15/50\n",
      "75/75 [==============================] - 0s 708us/step - loss: 0.5635 - accuracy: 0.7200 - val_loss: 0.6226 - val_accuracy: 0.6560\n",
      "Epoch 16/50\n",
      "75/75 [==============================] - 0s 924us/step - loss: 0.5571 - accuracy: 0.7147 - val_loss: 0.6155 - val_accuracy: 0.6760\n",
      "Epoch 17/50\n",
      "75/75 [==============================] - 0s 744us/step - loss: 0.5510 - accuracy: 0.7320 - val_loss: 0.6177 - val_accuracy: 0.6640\n",
      "Epoch 18/50\n",
      "75/75 [==============================] - 0s 717us/step - loss: 0.5471 - accuracy: 0.7427 - val_loss: 0.6124 - val_accuracy: 0.6840\n",
      "Epoch 19/50\n",
      "75/75 [==============================] - 0s 700us/step - loss: 0.5426 - accuracy: 0.7440 - val_loss: 0.6087 - val_accuracy: 0.6720\n",
      "Epoch 20/50\n",
      "75/75 [==============================] - 0s 714us/step - loss: 0.5356 - accuracy: 0.7520 - val_loss: 0.6344 - val_accuracy: 0.6360\n",
      "Epoch 21/50\n",
      "75/75 [==============================] - 0s 704us/step - loss: 0.5470 - accuracy: 0.7373 - val_loss: 0.6067 - val_accuracy: 0.6800\n",
      "Epoch 22/50\n",
      "75/75 [==============================] - 0s 705us/step - loss: 0.5339 - accuracy: 0.7533 - val_loss: 0.6142 - val_accuracy: 0.6680\n",
      "Epoch 23/50\n",
      "75/75 [==============================] - 0s 687us/step - loss: 0.5259 - accuracy: 0.7627 - val_loss: 0.6017 - val_accuracy: 0.6920\n",
      "Epoch 24/50\n",
      "75/75 [==============================] - 0s 730us/step - loss: 0.5356 - accuracy: 0.7467 - val_loss: 0.6079 - val_accuracy: 0.6800\n",
      "Epoch 25/50\n",
      "75/75 [==============================] - 0s 688us/step - loss: 0.5251 - accuracy: 0.7533 - val_loss: 0.6040 - val_accuracy: 0.6880\n",
      "Epoch 26/50\n",
      "75/75 [==============================] - 0s 784us/step - loss: 0.5212 - accuracy: 0.7560 - val_loss: 0.6170 - val_accuracy: 0.6640\n",
      "Epoch 27/50\n",
      "75/75 [==============================] - 0s 726us/step - loss: 0.5212 - accuracy: 0.7413 - val_loss: 0.5988 - val_accuracy: 0.7040\n",
      "Epoch 28/50\n",
      "75/75 [==============================] - 0s 757us/step - loss: 0.5179 - accuracy: 0.7400 - val_loss: 0.5997 - val_accuracy: 0.6840\n",
      "Epoch 29/50\n",
      "75/75 [==============================] - 0s 706us/step - loss: 0.5146 - accuracy: 0.7480 - val_loss: 0.5993 - val_accuracy: 0.7160\n",
      "Epoch 30/50\n",
      "75/75 [==============================] - 0s 773us/step - loss: 0.5149 - accuracy: 0.7427 - val_loss: 0.5956 - val_accuracy: 0.6840\n",
      "Epoch 31/50\n",
      "75/75 [==============================] - 0s 683us/step - loss: 0.5081 - accuracy: 0.7627 - val_loss: 0.5942 - val_accuracy: 0.7120\n",
      "Epoch 32/50\n",
      "75/75 [==============================] - 0s 700us/step - loss: 0.5074 - accuracy: 0.7640 - val_loss: 0.5914 - val_accuracy: 0.6960\n",
      "Epoch 33/50\n",
      "75/75 [==============================] - 0s 697us/step - loss: 0.5032 - accuracy: 0.7680 - val_loss: 0.6112 - val_accuracy: 0.6840\n",
      "Epoch 34/50\n",
      "75/75 [==============================] - 0s 714us/step - loss: 0.5059 - accuracy: 0.7480 - val_loss: 0.5934 - val_accuracy: 0.7040\n",
      "Epoch 35/50\n",
      "75/75 [==============================] - 0s 748us/step - loss: 0.4961 - accuracy: 0.7707 - val_loss: 0.6003 - val_accuracy: 0.7160\n",
      "Epoch 36/50\n",
      "75/75 [==============================] - 0s 701us/step - loss: 0.4963 - accuracy: 0.7733 - val_loss: 0.5954 - val_accuracy: 0.7240\n",
      "Epoch 37/50\n",
      "75/75 [==============================] - 0s 697us/step - loss: 0.4941 - accuracy: 0.7600 - val_loss: 0.5958 - val_accuracy: 0.7080\n",
      "Epoch 38/50\n",
      "75/75 [==============================] - 0s 704us/step - loss: 0.4949 - accuracy: 0.7640 - val_loss: 0.5910 - val_accuracy: 0.7200\n",
      "Epoch 39/50\n",
      "75/75 [==============================] - 0s 709us/step - loss: 0.4897 - accuracy: 0.7773 - val_loss: 0.5892 - val_accuracy: 0.7280\n",
      "Epoch 40/50\n",
      "75/75 [==============================] - 0s 712us/step - loss: 0.4885 - accuracy: 0.7720 - val_loss: 0.5879 - val_accuracy: 0.7200\n",
      "Epoch 41/50\n",
      "75/75 [==============================] - 0s 676us/step - loss: 0.4890 - accuracy: 0.7733 - val_loss: 0.5912 - val_accuracy: 0.7200\n",
      "Epoch 42/50\n",
      "75/75 [==============================] - 0s 707us/step - loss: 0.4891 - accuracy: 0.7733 - val_loss: 0.5959 - val_accuracy: 0.7240\n",
      "Epoch 43/50\n",
      "75/75 [==============================] - 0s 673us/step - loss: 0.4799 - accuracy: 0.7680 - val_loss: 0.5911 - val_accuracy: 0.6880\n",
      "Epoch 44/50\n",
      "75/75 [==============================] - 0s 700us/step - loss: 0.4807 - accuracy: 0.7787 - val_loss: 0.5891 - val_accuracy: 0.7080\n",
      "Epoch 45/50\n",
      "75/75 [==============================] - 0s 697us/step - loss: 0.4801 - accuracy: 0.7787 - val_loss: 0.5900 - val_accuracy: 0.7080\n",
      "Epoch 46/50\n",
      "75/75 [==============================] - 0s 680us/step - loss: 0.4771 - accuracy: 0.7800 - val_loss: 0.5910 - val_accuracy: 0.7120\n",
      "Epoch 47/50\n",
      "75/75 [==============================] - 0s 665us/step - loss: 0.4755 - accuracy: 0.7787 - val_loss: 0.5901 - val_accuracy: 0.7120\n",
      "Epoch 48/50\n",
      "75/75 [==============================] - 0s 711us/step - loss: 0.4750 - accuracy: 0.7813 - val_loss: 0.5899 - val_accuracy: 0.7200\n",
      "Epoch 49/50\n",
      "75/75 [==============================] - 0s 757us/step - loss: 0.4712 - accuracy: 0.7800 - val_loss: 0.5930 - val_accuracy: 0.7200\n",
      "Epoch 50/50\n",
      "75/75 [==============================] - 0s 796us/step - loss: 0.4703 - accuracy: 0.7853 - val_loss: 0.5935 - val_accuracy: 0.7200\n"
     ]
    }
   ],
   "source": [
    "history = model.fit(\n",
    "    X_train, \n",
    "    y_train, \n",
    "    epochs=50, \n",
    "    validation_data=(X_test, y_test), \n",
    "    batch_size=10\n",
    ")"
   ]
  },
  {
   "cell_type": "code",
   "execution_count": 18,
   "metadata": {},
   "outputs": [
    {
     "name": "stdout",
     "output_type": "stream",
     "text": [
      "24/24 [==============================] - 0s 796us/step - loss: 0.4630 - accuracy: 0.7773\n",
      "Training Accuracy: 0.7773\n",
      "8/8 [==============================] - 0s 776us/step - loss: 0.5935 - accuracy: 0.7200\n",
      "Testing Accuracy: 0.7200\n"
     ]
    }
   ],
   "source": [
    "_, train_accuracy = model.evaluate(X_train, y_train)\n",
    "print(f'Training Accuracy: {train_accuracy:.4f}')\n",
    "_, test_accuracy = model.evaluate(X_test, y_test)\n",
    "print(f'Testing Accuracy: {test_accuracy:.4f}')"
   ]
  },
  {
   "cell_type": "code",
   "execution_count": 19,
   "metadata": {},
   "outputs": [],
   "source": [
    "import matplotlib.pyplot as plt\n",
    "plt.style.use('ggplot')"
   ]
  },
  {
   "cell_type": "code",
   "execution_count": 20,
   "metadata": {},
   "outputs": [],
   "source": [
    "def plot_history(history):\n",
    "    acc = history.history['accuracy']\n",
    "    val_acc = history.history['val_accuracy']\n",
    "    loss = history.history['loss']\n",
    "    val_loss = history.history['val_loss']\n",
    "    x = range(1, len(acc) + 1)\n",
    "\n",
    "    plt.figure(figsize=(12, 5))\n",
    "    plt.subplot(1, 2, 1)\n",
    "    plt.plot(x, acc, 'b', label='Training acc')\n",
    "    plt.plot(x, val_acc, 'r', label='Validation acc')\n",
    "    plt.title('Training and validation accuracy')\n",
    "    plt.legend()\n",
    "    plt.subplot(1, 2, 2)\n",
    "    plt.plot(x, loss, 'b', label='Training loss')\n",
    "    plt.plot(x, val_loss, 'r', label='Validation loss')\n",
    "    plt.title('Training and validation loss')\n",
    "    plt.legend()"
   ]
  },
  {
   "cell_type": "code",
   "execution_count": 21,
   "metadata": {},
   "outputs": [
    {
     "data": {
      "image/png": "[encoded data removed]",
      "text/plain": [
       "<Figure size 864x360 with 2 Axes>"
      ]
     },
     "metadata": {},
     "output_type": "display_data"
    }
   ],
   "source": [
    "plot_history(history)"
   ]
  },
  {
   "cell_type": "code",
   "execution_count": 22,
   "metadata": {
    "id": "sVTyG3Ru6DOK"
   },
   "outputs": [],
   "source": [
    "model = models.Sequential()\n",
    "model.add(layers.Embedding(\n",
    "    input_dim=len(tokenizer.word_index) + 1, \n",
    "    output_dim=50, \n",
    "    input_length=100,\n",
    "    weights=[embedding_matrix],\n",
    "    trainable=True))\n",
    "model.add(layers.GlobalMaxPool1D())\n",
    "model.add(layers.Dense(10, activation='relu'))\n",
    "model.add(layers.Dense(1, activation='sigmoid'))\n",
    "model.compile(\n",
    "    loss='binary_crossentropy', \n",
    "    optimizer='adam', \n",
    "    metrics=['accuracy']\n",
    ")"
   ]
  },
  {
   "cell_type": "code",
   "execution_count": 23,
   "metadata": {
    "id": "QaEuVGrk6jwb"
   },
   "outputs": [
    {
     "name": "stdout",
     "output_type": "stream",
     "text": [
      "Epoch 1/50\n",
      "75/75 [==============================] - 0s 2ms/step - loss: 0.6970 - accuracy: 0.5893 - val_loss: 0.6684 - val_accuracy: 0.5880\n",
      "Epoch 2/50\n",
      "75/75 [==============================] - 0s 1ms/step - loss: 0.6428 - accuracy: 0.6680 - val_loss: 0.6564 - val_accuracy: 0.6320\n",
      "Epoch 3/50\n",
      "75/75 [==============================] - 0s 1ms/step - loss: 0.6096 - accuracy: 0.7320 - val_loss: 0.6351 - val_accuracy: 0.6360\n",
      "Epoch 4/50\n",
      "75/75 [==============================] - 0s 1ms/step - loss: 0.5734 - accuracy: 0.7453 - val_loss: 0.6221 - val_accuracy: 0.6720\n",
      "Epoch 5/50\n",
      "75/75 [==============================] - 0s 1ms/step - loss: 0.5327 - accuracy: 0.8000 - val_loss: 0.6070 - val_accuracy: 0.6760\n",
      "Epoch 6/50\n",
      "75/75 [==============================] - 0s 1ms/step - loss: 0.4855 - accuracy: 0.8213 - val_loss: 0.5765 - val_accuracy: 0.7080\n",
      "Epoch 7/50\n",
      "75/75 [==============================] - 0s 1ms/step - loss: 0.4325 - accuracy: 0.8480 - val_loss: 0.5573 - val_accuracy: 0.7160\n",
      "Epoch 8/50\n",
      "75/75 [==============================] - 0s 1ms/step - loss: 0.3794 - accuracy: 0.8707 - val_loss: 0.5357 - val_accuracy: 0.7280\n",
      "Epoch 9/50\n",
      "75/75 [==============================] - 0s 1ms/step - loss: 0.3265 - accuracy: 0.8960 - val_loss: 0.5290 - val_accuracy: 0.7400\n",
      "Epoch 10/50\n",
      "75/75 [==============================] - 0s 1ms/step - loss: 0.2773 - accuracy: 0.9187 - val_loss: 0.5035 - val_accuracy: 0.7320\n",
      "Epoch 11/50\n",
      "75/75 [==============================] - 0s 1ms/step - loss: 0.2393 - accuracy: 0.9307 - val_loss: 0.4970 - val_accuracy: 0.7520\n",
      "Epoch 12/50\n",
      "75/75 [==============================] - 0s 1ms/step - loss: 0.1975 - accuracy: 0.9493 - val_loss: 0.4855 - val_accuracy: 0.7320\n",
      "Epoch 13/50\n",
      "75/75 [==============================] - 0s 1ms/step - loss: 0.1644 - accuracy: 0.9613 - val_loss: 0.4897 - val_accuracy: 0.7520\n",
      "Epoch 14/50\n",
      "75/75 [==============================] - 0s 1ms/step - loss: 0.1396 - accuracy: 0.9680 - val_loss: 0.4777 - val_accuracy: 0.7440\n",
      "Epoch 15/50\n",
      "75/75 [==============================] - 0s 1ms/step - loss: 0.1145 - accuracy: 0.9800 - val_loss: 0.4772 - val_accuracy: 0.7560\n",
      "Epoch 16/50\n",
      "75/75 [==============================] - 0s 1ms/step - loss: 0.0960 - accuracy: 0.9867 - val_loss: 0.4929 - val_accuracy: 0.7760\n",
      "Epoch 17/50\n",
      "75/75 [==============================] - 0s 1ms/step - loss: 0.0808 - accuracy: 0.9907 - val_loss: 0.4871 - val_accuracy: 0.7800\n",
      "Epoch 18/50\n",
      "75/75 [==============================] - 0s 1ms/step - loss: 0.0679 - accuracy: 0.9907 - val_loss: 0.4884 - val_accuracy: 0.7920\n",
      "Epoch 19/50\n",
      "75/75 [==============================] - 0s 1ms/step - loss: 0.0564 - accuracy: 0.9933 - val_loss: 0.4874 - val_accuracy: 0.7800\n",
      "Epoch 20/50\n",
      "75/75 [==============================] - 0s 1ms/step - loss: 0.0477 - accuracy: 0.9933 - val_loss: 0.4915 - val_accuracy: 0.7920\n",
      "Epoch 21/50\n",
      "75/75 [==============================] - 0s 1ms/step - loss: 0.0401 - accuracy: 0.9947 - val_loss: 0.4973 - val_accuracy: 0.7880\n",
      "Epoch 22/50\n",
      "75/75 [==============================] - 0s 1ms/step - loss: 0.0348 - accuracy: 0.9960 - val_loss: 0.5113 - val_accuracy: 0.7920\n",
      "Epoch 23/50\n",
      "75/75 [==============================] - 0s 1ms/step - loss: 0.0294 - accuracy: 0.9960 - val_loss: 0.5125 - val_accuracy: 0.7920\n",
      "Epoch 24/50\n",
      "75/75 [==============================] - 0s 1ms/step - loss: 0.0244 - accuracy: 0.9973 - val_loss: 0.5131 - val_accuracy: 0.7960\n",
      "Epoch 25/50\n",
      "75/75 [==============================] - 0s 1ms/step - loss: 0.0206 - accuracy: 0.9987 - val_loss: 0.5256 - val_accuracy: 0.7840\n",
      "Epoch 26/50\n",
      "75/75 [==============================] - 0s 1ms/step - loss: 0.0175 - accuracy: 1.0000 - val_loss: 0.5237 - val_accuracy: 0.7920\n",
      "Epoch 27/50\n",
      "75/75 [==============================] - 0s 1ms/step - loss: 0.0151 - accuracy: 1.0000 - val_loss: 0.5331 - val_accuracy: 0.7920\n",
      "Epoch 28/50\n",
      "75/75 [==============================] - 0s 1ms/step - loss: 0.0132 - accuracy: 1.0000 - val_loss: 0.5355 - val_accuracy: 0.7960\n",
      "Epoch 29/50\n",
      "75/75 [==============================] - 0s 1ms/step - loss: 0.0115 - accuracy: 1.0000 - val_loss: 0.5483 - val_accuracy: 0.7800\n",
      "Epoch 30/50\n",
      "75/75 [==============================] - 0s 1ms/step - loss: 0.0102 - accuracy: 1.0000 - val_loss: 0.5464 - val_accuracy: 0.7920\n",
      "Epoch 31/50\n",
      "75/75 [==============================] - 0s 1ms/step - loss: 0.0089 - accuracy: 1.0000 - val_loss: 0.5508 - val_accuracy: 0.7840\n",
      "Epoch 32/50\n",
      "75/75 [==============================] - 0s 1ms/step - loss: 0.0079 - accuracy: 1.0000 - val_loss: 0.5559 - val_accuracy: 0.7840\n",
      "Epoch 33/50\n",
      "75/75 [==============================] - 0s 1ms/step - loss: 0.0070 - accuracy: 1.0000 - val_loss: 0.5593 - val_accuracy: 0.7840\n",
      "Epoch 34/50\n",
      "75/75 [==============================] - 0s 1ms/step - loss: 0.0062 - accuracy: 1.0000 - val_loss: 0.5661 - val_accuracy: 0.7840\n",
      "Epoch 35/50\n",
      "75/75 [==============================] - 0s 1ms/step - loss: 0.0057 - accuracy: 1.0000 - val_loss: 0.5679 - val_accuracy: 0.7840\n",
      "Epoch 36/50\n",
      "75/75 [==============================] - 0s 1ms/step - loss: 0.0051 - accuracy: 1.0000 - val_loss: 0.5740 - val_accuracy: 0.7720\n",
      "Epoch 37/50\n",
      "75/75 [==============================] - 0s 1ms/step - loss: 0.0046 - accuracy: 1.0000 - val_loss: 0.5770 - val_accuracy: 0.7840\n",
      "Epoch 38/50\n",
      "75/75 [==============================] - 0s 1ms/step - loss: 0.0042 - accuracy: 1.0000 - val_loss: 0.5805 - val_accuracy: 0.7800\n",
      "Epoch 39/50\n",
      "75/75 [==============================] - 0s 1ms/step - loss: 0.0038 - accuracy: 1.0000 - val_loss: 0.5851 - val_accuracy: 0.7840\n",
      "Epoch 40/50\n",
      "75/75 [==============================] - 0s 1ms/step - loss: 0.0035 - accuracy: 1.0000 - val_loss: 0.5885 - val_accuracy: 0.7840\n",
      "Epoch 41/50\n",
      "75/75 [==============================] - 0s 1ms/step - loss: 0.0032 - accuracy: 1.0000 - val_loss: 0.5929 - val_accuracy: 0.7840\n",
      "Epoch 42/50\n",
      "75/75 [==============================] - 0s 1ms/step - loss: 0.0030 - accuracy: 1.0000 - val_loss: 0.5983 - val_accuracy: 0.7800\n",
      "Epoch 43/50\n",
      "75/75 [==============================] - 0s 1ms/step - loss: 0.0027 - accuracy: 1.0000 - val_loss: 0.6009 - val_accuracy: 0.7880\n",
      "Epoch 44/50\n",
      "75/75 [==============================] - 0s 1ms/step - loss: 0.0025 - accuracy: 1.0000 - val_loss: 0.6048 - val_accuracy: 0.7880\n",
      "Epoch 45/50\n",
      "75/75 [==============================] - 0s 1ms/step - loss: 0.0023 - accuracy: 1.0000 - val_loss: 0.6073 - val_accuracy: 0.7880\n",
      "Epoch 46/50\n",
      "75/75 [==============================] - 0s 1ms/step - loss: 0.0021 - accuracy: 1.0000 - val_loss: 0.6120 - val_accuracy: 0.7880\n",
      "Epoch 47/50\n",
      "75/75 [==============================] - 0s 1ms/step - loss: 0.0020 - accuracy: 1.0000 - val_loss: 0.6146 - val_accuracy: 0.7880\n",
      "Epoch 48/50\n",
      "75/75 [==============================] - 0s 1ms/step - loss: 0.0018 - accuracy: 1.0000 - val_loss: 0.6166 - val_accuracy: 0.7880\n",
      "Epoch 49/50\n",
      "75/75 [==============================] - 0s 1ms/step - loss: 0.0017 - accuracy: 1.0000 - val_loss: 0.6212 - val_accuracy: 0.7880\n",
      "Epoch 50/50\n",
      "75/75 [==============================] - 0s 1ms/step - loss: 0.0016 - accuracy: 1.0000 - val_loss: 0.6242 - val_accuracy: 0.7840\n"
     ]
    }
   ],
   "source": [
    "history = model.fit(\n",
    "    X_train, \n",
    "    y_train, \n",
    "    epochs=50, \n",
    "    validation_data=(X_test, y_test), \n",
    "    batch_size=10\n",
    ")\n",
    "\n"
   ]
  },
  {
   "cell_type": "code",
   "execution_count": 24,
   "metadata": {},
   "outputs": [
    {
     "name": "stdout",
     "output_type": "stream",
     "text": [
      "24/24 [==============================] - 0s 682us/step - loss: 0.0015 - accuracy: 1.0000\n",
      "Training Accuracy: 1.0000\n",
      "8/8 [==============================] - 0s 772us/step - loss: 0.6242 - accuracy: 0.7840\n",
      "Testing Accuracy: 0.7840\n"
     ]
    }
   ],
   "source": [
    "_, train_accuracy = model.evaluate(X_train, y_train)\n",
    "print(f'Training Accuracy: {train_accuracy:.4f}')\n",
    "_, test_accuracy = model.evaluate(X_test, y_test)\n",
    "print(f'Testing Accuracy: {test_accuracy:.4f}')\n"
   ]
  },
  {
   "cell_type": "code",
   "execution_count": 25,
   "metadata": {},
   "outputs": [
    {
     "data": {
      "image/png": "[encoded data removed]",
      "text/plain": [
       "<Figure size 864x360 with 2 Axes>"
      ]
     },
     "metadata": {},
     "output_type": "display_data"
    }
   ],
   "source": [
    "plot_history(history)"
   ]
  }
 ],
 "metadata": {
  "colab": {
   "collapsed_sections": [],
   "name": "RPKerasNLPDemo",
   "provenance": []
  },
  "kernelspec": {
   "display_name": "Python 3",
   "language": "python",
   "name": "python3"
  },
  "language_info": {
   "codemirror_mode": {
    "name": "ipython",
    "version": 3
   },
   "file_extension": ".py",
   "mimetype": "text/x-python",
   "name": "python",
   "nbconvert_exporter": "python",
   "pygments_lexer": "ipython3",
   "version": "3.8.10"
  }
 },
 "nbformat": 4,
 "nbformat_minor": 1
}
