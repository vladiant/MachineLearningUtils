{
 "cells": [
  {
   "cell_type": "markdown",
   "metadata": {
    "id": "YDBNzanDGgWn"
   },
   "source": [
    "# NLP Demo Logistic Regression - Get Data"
   ]
  },
  {
   "cell_type": "code",
   "execution_count": 1,
   "metadata": {
    "id": "x7-IG3c0CUhG"
   },
   "outputs": [],
   "source": [
    "DATA_SET_URL = 'https://archive.ics.uci.edu/ml/machine-learning-databases/00331/sentiment%20labelled%20sentences.zip'"
   ]
  },
  {
   "cell_type": "code",
   "execution_count": 2,
   "metadata": {},
   "outputs": [],
   "source": [
    "import requests\n",
    "import zipfile"
   ]
  },
  {
   "cell_type": "code",
   "execution_count": 3,
   "metadata": {
    "id": "Ja1sRWqmCeYe"
   },
   "outputs": [],
   "source": [
    "def get_data(url, fn):\n",
    "  response = requests.get(url)\n",
    "  f = open(fn, 'wb')\n",
    "  f.write(response.content)\n",
    "  f.close()\n",
    "\n",
    "def extract_data(fn):\n",
    "  with zipfile.ZipFile(fn, 'r') as zf:\n",
    "    zf.extractall()"
   ]
  },
  {
   "cell_type": "code",
   "execution_count": 4,
   "metadata": {},
   "outputs": [],
   "source": [
    "DATA_SET_FILE_NAME = 'dataset.zip'"
   ]
  },
  {
   "cell_type": "code",
   "execution_count": 5,
   "metadata": {
    "id": "TpjgNZRuDYjC"
   },
   "outputs": [],
   "source": [
    "get_data(DATA_SET_URL, DATA_SET_FILE_NAME)\n",
    "extract_data(DATA_SET_FILE_NAME)"
   ]
  },
  {
   "cell_type": "code",
   "execution_count": 6,
   "metadata": {},
   "outputs": [],
   "source": [
    "import os"
   ]
  },
  {
   "cell_type": "code",
   "execution_count": 7,
   "metadata": {
    "id": "GWKOAHvpDfTd"
   },
   "outputs": [],
   "source": [
    "def rename_data_folder(fn, new_name):\n",
    "  if os.path.exists(fn):\n",
    "    os.rename(fn, new_name)"
   ]
  },
  {
   "cell_type": "code",
   "execution_count": 8,
   "metadata": {},
   "outputs": [],
   "source": [
    "DATA_SET_FOLDER = 'sentiment labelled sentences'"
   ]
  },
  {
   "cell_type": "code",
   "execution_count": 9,
   "metadata": {
    "id": "erqV1zQfzEH6"
   },
   "outputs": [],
   "source": [
    "rename_data_folder(DATA_SET_FOLDER, 'data')"
   ]
  }
 ],
 "metadata": {
  "colab": {
   "collapsed_sections": [],
   "name": "RPKerasNLPDemo",
   "provenance": []
  },
  "kernelspec": {
   "display_name": "Python 3",
   "language": "python",
   "name": "python3"
  },
  "language_info": {
   "codemirror_mode": {
    "name": "ipython",
    "version": 3
   },
   "file_extension": ".py",
   "mimetype": "text/x-python",
   "name": "python",
   "nbconvert_exporter": "python",
   "pygments_lexer": "ipython3",
   "version": "3.8.5"
  }
 },
 "nbformat": 4,
 "nbformat_minor": 1
}
