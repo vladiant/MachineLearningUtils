{
 "cells": [
  {
   "cell_type": "markdown",
   "metadata": {},
   "source": [
    "# Generate Data for Robust Regressions\n",
    "https://machinelearningmastery.com/robust-regression-for-machine-learning-in-python/"
   ]
  },
  {
   "cell_type": "markdown",
   "metadata": {},
   "source": [
    "## Create a regression dataset with outliers"
   ]
  },
  {
   "cell_type": "code",
   "execution_count": 1,
   "metadata": {},
   "outputs": [],
   "source": [
    "from random import random, randint, seed\n",
    "\n",
    "from sklearn.datasets import make_regression\n",
    "\n",
    "from matplotlib import pyplot"
   ]
  },
  {
   "cell_type": "code",
   "execution_count": 2,
   "metadata": {},
   "outputs": [],
   "source": [
    "# Prepare the dataset\n",
    "def get_dataset():\n",
    "    X, y = make_regression(n_samples=100, n_features=1,\n",
    "                           tail_strength=0.9, effective_rank=1,\n",
    "                           n_informative=1, noise=3,\n",
    "                           bias=50, random_state=1)\n",
    "    # Add artificial outliers\n",
    "    seed(1)\n",
    "    for i in range(10):\n",
    "        factor = randint(2, 4)\n",
    "        if random() > 0.5:\n",
    "            X[i] += factor * X.std()\n",
    "        else:\n",
    "            X[i] -= factor * X.std()\n",
    "\n",
    "    return X, y"
   ]
  },
  {
   "cell_type": "markdown",
   "metadata": {},
   "source": [
    "## Theil Sen Regression"
   ]
  },
  {
   "cell_type": "code",
   "execution_count": 3,
   "metadata": {},
   "outputs": [],
   "source": [
    "from numpy import arange, mean, std, absolute\n",
    "\n",
    "from sklearn.linear_model import TheilSenRegressor\n",
    "from sklearn.model_selection import cross_val_score, RepeatedKFold"
   ]
  },
  {
   "cell_type": "code",
   "execution_count": 4,
   "metadata": {},
   "outputs": [],
   "source": [
    "# Evaluate a model\n",
    "def evaluate_model(X, y, model):\n",
    "    # Define model evaluation method\n",
    "    cv = RepeatedKFold(n_splits=10, n_repeats=3, random_state=1)\n",
    "    # Evaluate model\n",
    "    scores = cross_val_score(model, X, y, scoring='neg_mean_absolute_error', cv=cv, n_jobs=1)\n",
    "    # Force scores to be positive\n",
    "    return absolute(scores)"
   ]
  },
  {
   "cell_type": "code",
   "execution_count": 5,
   "metadata": {},
   "outputs": [],
   "source": [
    "# Plot the dataset and the model's line of best fit\n",
    "def plot_best_fit(X, y, model):\n",
    "    # Fit the model to all data\n",
    "    model.fit(X, y)\n",
    "    # Plot the dataset\n",
    "    pyplot.scatter(X, y)\n",
    "    # Plot the line of the best fit\n",
    "    xaxis = arange(X.min(), X.max(), 0.01)\n",
    "    yaxis = model.predict(xaxis.reshape((len(xaxis),1)))\n",
    "    pyplot.plot(xaxis, yaxis, color='r')\n",
    "    # Show the plot\n",
    "    pyplot.title(type(model).__name__)\n",
    "    pyplot.show()"
   ]
  },
  {
   "cell_type": "code",
   "execution_count": 6,
   "metadata": {},
   "outputs": [],
   "source": [
    "# Generate dataset\n",
    "X, y = get_dataset()"
   ]
  },
  {
   "cell_type": "code",
   "execution_count": 7,
   "metadata": {},
   "outputs": [],
   "source": [
    "# Define model\n",
    "# TheilSenRegressor(*, fit_intercept=True, copy_X=True, max_subpopulation=10000.0,\n",
    "# n_subsamples=None, max_iter=300, tol=0.001, random_state=None, n_jobs=None, verbose=False)\n",
    "model = TheilSenRegressor()"
   ]
  },
  {
   "cell_type": "code",
   "execution_count": 8,
   "metadata": {},
   "outputs": [],
   "source": [
    "# Evaluate model\n",
    "results = evaluate_model(X, y, model)"
   ]
  },
  {
   "cell_type": "code",
   "execution_count": 9,
   "metadata": {},
   "outputs": [
    {
     "name": "stdout",
     "output_type": "stream",
     "text": [
      "Mean MAE: 4.371390239937131 (1.9609733695261808)\n"
     ]
    }
   ],
   "source": [
    "print(f'Mean MAE: {mean(results)} ({std(results)})')"
   ]
  },
  {
   "cell_type": "code",
   "execution_count": 10,
   "metadata": {},
   "outputs": [
    {
     "data": {
      "image/png": "[encoded data removed]",
      "text/plain": [
       "<Figure size 432x288 with 1 Axes>"
      ]
     },
     "metadata": {
      "needs_background": "light"
     },
     "output_type": "display_data"
    }
   ],
   "source": [
    "# Plot line of the best fit\n",
    "plot_best_fit(X, y, model)"
   ]
  },
  {
   "cell_type": "code",
   "execution_count": null,
   "metadata": {},
   "outputs": [],
   "source": []
  }
 ],
 "metadata": {
  "kernelspec": {
   "display_name": "Python 3",
   "language": "python",
   "name": "python3"
  },
  "language_info": {
   "codemirror_mode": {
    "name": "ipython",
    "version": 3
   },
   "file_extension": ".py",
   "mimetype": "text/x-python",
   "name": "python",
   "nbconvert_exporter": "python",
   "pygments_lexer": "ipython3",
   "version": "3.8.5"
  }
 },
 "nbformat": 4,
 "nbformat_minor": 4
}
