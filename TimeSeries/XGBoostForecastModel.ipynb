{
 "cells": [
  {
   "cell_type": "markdown",
   "metadata": {},
   "source": [
    "# XGBoost Time Series Forecasting\n",
    "https://machinelearningmastery.com/xgboost-for-time-series-forecasting/"
   ]
  },
  {
   "cell_type": "code",
   "execution_count": 1,
   "metadata": {},
   "outputs": [],
   "source": [
    "# ! pip3 install xgboost"
   ]
  },
  {
   "cell_type": "markdown",
   "metadata": {},
   "source": [
    "## Dataset"
   ]
  },
  {
   "cell_type": "markdown",
   "metadata": {},
   "source": [
    "[Dataset (daily-total-female-births.csv)](https://raw.githubusercontent.com/jbrownlee/Datasets/master/daily-total-female-births.csv)\n",
    "\n",
    "[Description (daily-total-female-births.names)](https://raw.githubusercontent.com/jbrownlee/Datasets/master/daily-total-female-births.names)"
   ]
  },
  {
   "cell_type": "markdown",
   "metadata": {},
   "source": [
    "## Model"
   ]
  },
  {
   "cell_type": "code",
   "execution_count": 2,
   "metadata": {},
   "outputs": [],
   "source": [
    "from numpy import asarray\n",
    "\n",
    "from pandas import read_csv, DataFrame, concat\n",
    "\n",
    "from sklearn.metrics import mean_absolute_error\n",
    "\n",
    "from xgboost import XGBRFRegressor\n",
    "\n",
    "from matplotlib import pyplot"
   ]
  },
  {
   "cell_type": "code",
   "execution_count": 3,
   "metadata": {},
   "outputs": [],
   "source": [
    "# Transform a time series dataset to a supervised learning dataset\n",
    "def series_to_supervised(data, n_in=1, n_out=1, dropnan=True):\n",
    "    n_vars = 1 if type(data) is list else data.shape[1]\n",
    "    df = DataFrame(data)\n",
    "    cols = list()\n",
    "    # Input sequence (t-n ... t-1)\n",
    "    for i in range(n_in, 0, -1):\n",
    "        cols.append(df.shift(i))\n",
    "    # Forecast sequence (t, t+1 ... t+n)\n",
    "    for i in range(0, n_out):\n",
    "        cols.append(df.shift(-i))\n",
    "    # Put it all together\n",
    "    agg = concat(cols, axis=1)\n",
    "    # Drop rows with NaN values\n",
    "    if dropnan:\n",
    "        agg.dropna(inplace=True)\n",
    "    return agg.values"
   ]
  },
  {
   "cell_type": "code",
   "execution_count": 4,
   "metadata": {},
   "outputs": [],
   "source": [
    "# Split a univariate dataset into train/test sets\n",
    "def train_test_split(data, n_test):\n",
    "    return data[:-n_test, :], data[-n_test:, :]"
   ]
  },
  {
   "cell_type": "code",
   "execution_count": 5,
   "metadata": {},
   "outputs": [],
   "source": [
    "# Fit an XGBoost model and make a one step prediction\n",
    "def xgboost_forecats(train, testX):\n",
    "    # Transform list into array\n",
    "    train = asarray(train)\n",
    "    # Split into input and output columns\n",
    "    trainX, trainy = train[:, :-1], train[:, -1]\n",
    "    # Fit model\n",
    "    model = XGBRFRegressor(objective='reg:squarederror', n_estimators=1000)\n",
    "    model.fit(trainX, trainy)\n",
    "    # Make a one step prediction\n",
    "    yhat = model.predict(asarray([testX]))\n",
    "    return yhat[0]"
   ]
  },
  {
   "cell_type": "code",
   "execution_count": 6,
   "metadata": {},
   "outputs": [],
   "source": [
    "# Walk-forward validation for univariate data\n",
    "def walk_forward_validation(data, n_test):\n",
    "    predictions = list()\n",
    "    # Split dataset\n",
    "    train, test = train_test_split(data, n_test)\n",
    "    # Seed history with training dataset\n",
    "    history = [x for x in train]\n",
    "    # Step over each time step in the test set\n",
    "    for i in range(len(test)):\n",
    "        # Split test row into input and output columns\n",
    "        testX, testy = test[i, :-1], test[i, -1]\n",
    "        # Fit model on history and make a prediction\n",
    "        yhat = xgboost_forecats(history, testX)\n",
    "        # Store forecast in list of predictions\n",
    "        predictions.append(yhat)\n",
    "        # Add actual observation to history for the next loop\n",
    "        history.append(test[i])\n",
    "        # Summarize progress\n",
    "        print(f'>expected={testy}, predicted={yhat}')\n",
    "    # Estimate prediction error\n",
    "    error = mean_absolute_error(test[:, -1], predictions)\n",
    "    return error, test[:, -1], predictions"
   ]
  },
  {
   "cell_type": "code",
   "execution_count": 7,
   "metadata": {},
   "outputs": [],
   "source": [
    "# Load the dataset\n",
    "series = read_csv('https://raw.githubusercontent.com/jbrownlee/Datasets/master/daily-total-female-births.csv', \n",
    "                  header=0, index_col=0)\n",
    "values = series.values"
   ]
  },
  {
   "cell_type": "code",
   "execution_count": 8,
   "metadata": {},
   "outputs": [],
   "source": [
    "# Transform the time series data into supervised learning\n",
    "data = series_to_supervised(values, n_in=6)"
   ]
  },
  {
   "cell_type": "code",
   "execution_count": 9,
   "metadata": {},
   "outputs": [
    {
     "name": "stderr",
     "output_type": "stream",
     "text": [
      "/home/vladiant/.local/lib/python3.8/site-packages/xgboost/data.py:104: UserWarning: Use subset (sliced data) of np.ndarray is not recommended because it will generate extra copies and increase memory consumption\n",
      "  warnings.warn(\n"
     ]
    },
    {
     "name": "stdout",
     "output_type": "stream",
     "text": [
      ">expected=42.0, predicted=45.88021469116211\n",
      ">expected=53.0, predicted=42.82456970214844\n",
      ">expected=39.0, predicted=42.271217346191406\n",
      ">expected=40.0, predicted=38.866722106933594\n",
      ">expected=38.0, predicted=42.96770477294922\n",
      ">expected=44.0, predicted=44.116111755371094\n",
      ">expected=34.0, predicted=41.79288101196289\n",
      ">expected=37.0, predicted=39.58625030517578\n",
      ">expected=52.0, predicted=39.419639587402344\n",
      ">expected=48.0, predicted=41.25883865356445\n",
      ">expected=55.0, predicted=42.20597839355469\n",
      ">expected=50.0, predicted=44.72806167602539\n",
      "MAE: 5.9425474802653\n"
     ]
    }
   ],
   "source": [
    "# Evaluate\n",
    "mae, y, yhat = walk_forward_validation(data, 12)\n",
    "print(f'MAE: {mae}')"
   ]
  },
  {
   "cell_type": "code",
   "execution_count": 10,
   "metadata": {},
   "outputs": [
    {
     "data": {
      "image/png": "[encoded data removed]",
      "text/plain": [
       "<Figure size 432x288 with 1 Axes>"
      ]
     },
     "metadata": {
      "needs_background": "light"
     },
     "output_type": "display_data"
    }
   ],
   "source": [
    "# Plot expected vs predicted\n",
    "pyplot.plot(y, label='Expected')\n",
    "pyplot.plot(yhat, label='Predicted')\n",
    "pyplot.legend()\n",
    "pyplot.show()"
   ]
  },
  {
   "cell_type": "markdown",
   "metadata": {},
   "source": [
    "### Predict a single value"
   ]
  },
  {
   "cell_type": "code",
   "execution_count": 11,
   "metadata": {},
   "outputs": [],
   "source": [
    "# Transform the time series data into supervised learning\n",
    "train = series_to_supervised(values, n_in=6)"
   ]
  },
  {
   "cell_type": "code",
   "execution_count": 12,
   "metadata": {},
   "outputs": [],
   "source": [
    "# Split into input and output columns\n",
    "trainX, trainy = train[:, :-1], train[:, -1]"
   ]
  },
  {
   "cell_type": "code",
   "execution_count": 13,
   "metadata": {},
   "outputs": [
    {
     "data": {
      "text/plain": [
       "XGBRFRegressor(base_score=0.5, booster='gbtree', colsample_bylevel=1,\n",
       "               colsample_bytree=1, gamma=0, gpu_id=-1, importance_type='gain',\n",
       "               interaction_constraints='', max_delta_step=0, max_depth=6,\n",
       "               min_child_weight=1, missing=nan, monotone_constraints='()',\n",
       "               n_estimators=1000, n_jobs=8, num_parallel_tree=1000,\n",
       "               objective='reg:squarederror', random_state=0, reg_alpha=0,\n",
       "               scale_pos_weight=1, tree_method='exact', validate_parameters=1,\n",
       "               verbosity=None)"
      ]
     },
     "execution_count": 13,
     "metadata": {},
     "output_type": "execute_result"
    }
   ],
   "source": [
    "# Fit model\n",
    "model = XGBRFRegressor(objective='reg:squarederror', n_estimators=1000)\n",
    "model.fit(trainX, trainy)"
   ]
  },
  {
   "cell_type": "code",
   "execution_count": 14,
   "metadata": {},
   "outputs": [],
   "source": [
    "# Construct an input for a new prediction\n",
    "row = values[-6:].flatten()"
   ]
  },
  {
   "cell_type": "code",
   "execution_count": 15,
   "metadata": {},
   "outputs": [],
   "source": [
    "# Make a one step prediction\n",
    "yhat = model.predict(asarray([row]))"
   ]
  },
  {
   "cell_type": "code",
   "execution_count": 16,
   "metadata": {},
   "outputs": [
    {
     "name": "stdout",
     "output_type": "stream",
     "text": [
      "Input: [34 37 52 48 55 50], Predicted: 42.81589126586914\n"
     ]
    }
   ],
   "source": [
    "print(f'Input: {row}, Predicted: {yhat[0]}')"
   ]
  },
  {
   "cell_type": "code",
   "execution_count": null,
   "metadata": {},
   "outputs": [],
   "source": []
  }
 ],
 "metadata": {
  "kernelspec": {
   "display_name": "Python 3",
   "language": "python",
   "name": "python3"
  },
  "language_info": {
   "codemirror_mode": {
    "name": "ipython",
    "version": 3
   },
   "file_extension": ".py",
   "mimetype": "text/x-python",
   "name": "python",
   "nbconvert_exporter": "python",
   "pygments_lexer": "ipython3",
   "version": "3.8.5"
  }
 },
 "nbformat": 4,
 "nbformat_minor": 4
}
