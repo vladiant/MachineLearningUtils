{
 "cells": [
  {
   "cell_type": "markdown",
   "metadata": {},
   "source": [
    "# Classification Model"
   ]
  },
  {
   "cell_type": "markdown",
   "metadata": {},
   "source": [
    "https://machinelearningmastery.com/neural-network-models-for-combined-classification-and-regression/"
   ]
  },
  {
   "cell_type": "markdown",
   "metadata": {},
   "source": [
    "## Load and sumamrize the abalone dataset"
   ]
  },
  {
   "cell_type": "code",
   "execution_count": 1,
   "metadata": {},
   "outputs": [],
   "source": [
    "from pandas import read_csv\n",
    "from matplotlib import pyplot"
   ]
  },
  {
   "cell_type": "markdown",
   "metadata": {},
   "source": [
    "Load dataset"
   ]
  },
  {
   "cell_type": "code",
   "execution_count": 2,
   "metadata": {},
   "outputs": [],
   "source": [
    "# https://raw.githubusercontent.com/jbrownlee/Datasets/master/abalone.csv\n",
    "dataframe = read_csv('abalone.csv', header=None)"
   ]
  },
  {
   "cell_type": "markdown",
   "metadata": {},
   "source": [
    "Summarize shape"
   ]
  },
  {
   "cell_type": "code",
   "execution_count": 3,
   "metadata": {},
   "outputs": [
    {
     "data": {
      "text/plain": [
       "(4177, 9)"
      ]
     },
     "execution_count": 3,
     "metadata": {},
     "output_type": "execute_result"
    }
   ],
   "source": [
    "dataframe.shape"
   ]
  },
  {
   "cell_type": "markdown",
   "metadata": {},
   "source": [
    "Summarize first few lines"
   ]
  },
  {
   "cell_type": "code",
   "execution_count": 4,
   "metadata": {},
   "outputs": [
    {
     "data": {
      "text/html": [
       "<div>\n",
       "<style scoped>\n",
       "    .dataframe tbody tr th:only-of-type {\n",
       "        vertical-align: middle;\n",
       "    }\n",
       "\n",
       "    .dataframe tbody tr th {\n",
       "        vertical-align: top;\n",
       "    }\n",
       "\n",
       "    .dataframe thead th {\n",
       "        text-align: right;\n",
       "    }\n",
       "</style>\n",
       "<table border=\"1\" class=\"dataframe\">\n",
       "  <thead>\n",
       "    <tr style=\"text-align: right;\">\n",
       "      <th></th>\n",
       "      <th>0</th>\n",
       "      <th>1</th>\n",
       "      <th>2</th>\n",
       "      <th>3</th>\n",
       "      <th>4</th>\n",
       "      <th>5</th>\n",
       "      <th>6</th>\n",
       "      <th>7</th>\n",
       "      <th>8</th>\n",
       "    </tr>\n",
       "  </thead>\n",
       "  <tbody>\n",
       "    <tr>\n",
       "      <th>0</th>\n",
       "      <td>M</td>\n",
       "      <td>0.455</td>\n",
       "      <td>0.365</td>\n",
       "      <td>0.095</td>\n",
       "      <td>0.5140</td>\n",
       "      <td>0.2245</td>\n",
       "      <td>0.1010</td>\n",
       "      <td>0.150</td>\n",
       "      <td>15</td>\n",
       "    </tr>\n",
       "    <tr>\n",
       "      <th>1</th>\n",
       "      <td>M</td>\n",
       "      <td>0.350</td>\n",
       "      <td>0.265</td>\n",
       "      <td>0.090</td>\n",
       "      <td>0.2255</td>\n",
       "      <td>0.0995</td>\n",
       "      <td>0.0485</td>\n",
       "      <td>0.070</td>\n",
       "      <td>7</td>\n",
       "    </tr>\n",
       "    <tr>\n",
       "      <th>2</th>\n",
       "      <td>F</td>\n",
       "      <td>0.530</td>\n",
       "      <td>0.420</td>\n",
       "      <td>0.135</td>\n",
       "      <td>0.6770</td>\n",
       "      <td>0.2565</td>\n",
       "      <td>0.1415</td>\n",
       "      <td>0.210</td>\n",
       "      <td>9</td>\n",
       "    </tr>\n",
       "    <tr>\n",
       "      <th>3</th>\n",
       "      <td>M</td>\n",
       "      <td>0.440</td>\n",
       "      <td>0.365</td>\n",
       "      <td>0.125</td>\n",
       "      <td>0.5160</td>\n",
       "      <td>0.2155</td>\n",
       "      <td>0.1140</td>\n",
       "      <td>0.155</td>\n",
       "      <td>10</td>\n",
       "    </tr>\n",
       "    <tr>\n",
       "      <th>4</th>\n",
       "      <td>I</td>\n",
       "      <td>0.330</td>\n",
       "      <td>0.255</td>\n",
       "      <td>0.080</td>\n",
       "      <td>0.2050</td>\n",
       "      <td>0.0895</td>\n",
       "      <td>0.0395</td>\n",
       "      <td>0.055</td>\n",
       "      <td>7</td>\n",
       "    </tr>\n",
       "  </tbody>\n",
       "</table>\n",
       "</div>"
      ],
      "text/plain": [
       "   0      1      2      3       4       5       6      7   8\n",
       "0  M  0.455  0.365  0.095  0.5140  0.2245  0.1010  0.150  15\n",
       "1  M  0.350  0.265  0.090  0.2255  0.0995  0.0485  0.070   7\n",
       "2  F  0.530  0.420  0.135  0.6770  0.2565  0.1415  0.210   9\n",
       "3  M  0.440  0.365  0.125  0.5160  0.2155  0.1140  0.155  10\n",
       "4  I  0.330  0.255  0.080  0.2050  0.0895  0.0395  0.055   7"
      ]
     },
     "execution_count": 4,
     "metadata": {},
     "output_type": "execute_result"
    }
   ],
   "source": [
    "dataframe.head()"
   ]
  },
  {
   "cell_type": "markdown",
   "metadata": {},
   "source": [
    "## Regression model"
   ]
  },
  {
   "cell_type": "markdown",
   "metadata": {},
   "source": [
    "Split into input (X) and output (y) variables"
   ]
  },
  {
   "cell_type": "code",
   "execution_count": 5,
   "metadata": {},
   "outputs": [],
   "source": [
    "dataset = dataframe.values"
   ]
  },
  {
   "cell_type": "code",
   "execution_count": 6,
   "metadata": {},
   "outputs": [],
   "source": [
    "X, y = dataset[:, 1:-1], dataset[:,-1]"
   ]
  },
  {
   "cell_type": "code",
   "execution_count": 7,
   "metadata": {},
   "outputs": [],
   "source": [
    "X, y = X.astype('float'), y.astype('float')"
   ]
  },
  {
   "cell_type": "code",
   "execution_count": 8,
   "metadata": {},
   "outputs": [],
   "source": [
    "n_features = X.shape[1]"
   ]
  },
  {
   "cell_type": "markdown",
   "metadata": {},
   "source": [
    "Encode strings to integer"
   ]
  },
  {
   "cell_type": "code",
   "execution_count": 9,
   "metadata": {},
   "outputs": [],
   "source": [
    "from sklearn.preprocessing import LabelEncoder\n",
    "from numpy import unique"
   ]
  },
  {
   "cell_type": "code",
   "execution_count": 10,
   "metadata": {},
   "outputs": [],
   "source": [
    "y = LabelEncoder().fit_transform(y)"
   ]
  },
  {
   "cell_type": "code",
   "execution_count": 11,
   "metadata": {},
   "outputs": [],
   "source": [
    "n_class = len(unique(y))"
   ]
  },
  {
   "cell_type": "markdown",
   "metadata": {},
   "source": [
    "Split data into train and test sets"
   ]
  },
  {
   "cell_type": "code",
   "execution_count": 12,
   "metadata": {},
   "outputs": [],
   "source": [
    "from sklearn.model_selection import train_test_split"
   ]
  },
  {
   "cell_type": "code",
   "execution_count": 13,
   "metadata": {},
   "outputs": [],
   "source": [
    "X_train, X_test, y_train, y_test = train_test_split(X, y, test_size=0.33, random_state=1)"
   ]
  },
  {
   "cell_type": "markdown",
   "metadata": {},
   "source": [
    "Define the Keras model"
   ]
  },
  {
   "cell_type": "code",
   "execution_count": 14,
   "metadata": {},
   "outputs": [],
   "source": [
    "from tensorflow.keras.models import Sequential\n",
    "from tensorflow.keras.layers import Dense"
   ]
  },
  {
   "cell_type": "code",
   "execution_count": 15,
   "metadata": {},
   "outputs": [],
   "source": [
    "model = Sequential()"
   ]
  },
  {
   "cell_type": "code",
   "execution_count": 16,
   "metadata": {},
   "outputs": [],
   "source": [
    "model.add(Dense(20, input_dim=n_features, activation='relu', kernel_initializer='he_normal'))\n",
    "model.add(Dense(10, activation='relu', kernel_initializer='he_normal'))\n",
    "model.add(Dense(n_class, activation='softmax'))"
   ]
  },
  {
   "cell_type": "markdown",
   "metadata": {},
   "source": [
    "Compile the Keras model"
   ]
  },
  {
   "cell_type": "code",
   "execution_count": 17,
   "metadata": {},
   "outputs": [],
   "source": [
    "model.compile(loss='sparse_categorical_crossentropy', optimizer='adam')"
   ]
  },
  {
   "cell_type": "markdown",
   "metadata": {},
   "source": [
    "Fit the Keras model on the dataset"
   ]
  },
  {
   "cell_type": "code",
   "execution_count": 18,
   "metadata": {},
   "outputs": [
    {
     "name": "stdout",
     "output_type": "stream",
     "text": [
      "Epoch 1/150\n",
      "88/88 - 0s - loss: 3.0797\n",
      "Epoch 2/150\n",
      "88/88 - 0s - loss: 2.6936\n",
      "Epoch 3/150\n",
      "88/88 - 0s - loss: 2.5209\n",
      "Epoch 4/150\n",
      "88/88 - 0s - loss: 2.4500\n",
      "Epoch 5/150\n",
      "88/88 - 0s - loss: 2.3924\n",
      "Epoch 6/150\n",
      "88/88 - 0s - loss: 2.3351\n",
      "Epoch 7/150\n",
      "88/88 - 0s - loss: 2.2823\n",
      "Epoch 8/150\n",
      "88/88 - 0s - loss: 2.2432\n",
      "Epoch 9/150\n",
      "88/88 - 0s - loss: 2.2158\n",
      "Epoch 10/150\n",
      "88/88 - 0s - loss: 2.1948\n",
      "Epoch 11/150\n",
      "88/88 - 0s - loss: 2.1743\n",
      "Epoch 12/150\n",
      "88/88 - 0s - loss: 2.1602\n",
      "Epoch 13/150\n",
      "88/88 - 0s - loss: 2.1464\n",
      "Epoch 14/150\n",
      "88/88 - 0s - loss: 2.1349\n",
      "Epoch 15/150\n",
      "88/88 - 0s - loss: 2.1232\n",
      "Epoch 16/150\n",
      "88/88 - 0s - loss: 2.1120\n",
      "Epoch 17/150\n",
      "88/88 - 0s - loss: 2.1018\n",
      "Epoch 18/150\n",
      "88/88 - 0s - loss: 2.0924\n",
      "Epoch 19/150\n",
      "88/88 - 0s - loss: 2.0878\n",
      "Epoch 20/150\n",
      "88/88 - 0s - loss: 2.0756\n",
      "Epoch 21/150\n",
      "88/88 - 0s - loss: 2.0711\n",
      "Epoch 22/150\n",
      "88/88 - 0s - loss: 2.0609\n",
      "Epoch 23/150\n",
      "88/88 - 0s - loss: 2.0557\n",
      "Epoch 24/150\n",
      "88/88 - 0s - loss: 2.0490\n",
      "Epoch 25/150\n",
      "88/88 - 0s - loss: 2.0453\n",
      "Epoch 26/150\n",
      "88/88 - 0s - loss: 2.0384\n",
      "Epoch 27/150\n",
      "88/88 - 0s - loss: 2.0312\n",
      "Epoch 28/150\n",
      "88/88 - 0s - loss: 2.0293\n",
      "Epoch 29/150\n",
      "88/88 - 0s - loss: 2.0229\n",
      "Epoch 30/150\n",
      "88/88 - 0s - loss: 2.0203\n",
      "Epoch 31/150\n",
      "88/88 - 0s - loss: 2.0142\n",
      "Epoch 32/150\n",
      "88/88 - 0s - loss: 2.0111\n",
      "Epoch 33/150\n",
      "88/88 - 0s - loss: 2.0084\n",
      "Epoch 34/150\n",
      "88/88 - 0s - loss: 2.0025\n",
      "Epoch 35/150\n",
      "88/88 - 0s - loss: 1.9996\n",
      "Epoch 36/150\n",
      "88/88 - 0s - loss: 1.9968\n",
      "Epoch 37/150\n",
      "88/88 - 0s - loss: 1.9933\n",
      "Epoch 38/150\n",
      "88/88 - 0s - loss: 1.9898\n",
      "Epoch 39/150\n",
      "88/88 - 0s - loss: 1.9896\n",
      "Epoch 40/150\n",
      "88/88 - 0s - loss: 1.9860\n",
      "Epoch 41/150\n",
      "88/88 - 0s - loss: 1.9837\n",
      "Epoch 42/150\n",
      "88/88 - 0s - loss: 1.9798\n",
      "Epoch 43/150\n",
      "88/88 - 0s - loss: 1.9794\n",
      "Epoch 44/150\n",
      "88/88 - 0s - loss: 1.9778\n",
      "Epoch 45/150\n",
      "88/88 - 0s - loss: 1.9746\n",
      "Epoch 46/150\n",
      "88/88 - 0s - loss: 1.9726\n",
      "Epoch 47/150\n",
      "88/88 - 0s - loss: 1.9707\n",
      "Epoch 48/150\n",
      "88/88 - 0s - loss: 1.9713\n",
      "Epoch 49/150\n",
      "88/88 - 0s - loss: 1.9684\n",
      "Epoch 50/150\n",
      "88/88 - 0s - loss: 1.9671\n",
      "Epoch 51/150\n",
      "88/88 - 0s - loss: 1.9650\n",
      "Epoch 52/150\n",
      "88/88 - 0s - loss: 1.9645\n",
      "Epoch 53/150\n",
      "88/88 - 0s - loss: 1.9668\n",
      "Epoch 54/150\n",
      "88/88 - 0s - loss: 1.9652\n",
      "Epoch 55/150\n",
      "88/88 - 0s - loss: 1.9611\n",
      "Epoch 56/150\n",
      "88/88 - 0s - loss: 1.9623\n",
      "Epoch 57/150\n",
      "88/88 - 0s - loss: 1.9581\n",
      "Epoch 58/150\n",
      "88/88 - 0s - loss: 1.9578\n",
      "Epoch 59/150\n",
      "88/88 - 0s - loss: 1.9553\n",
      "Epoch 60/150\n",
      "88/88 - 0s - loss: 1.9558\n",
      "Epoch 61/150\n",
      "88/88 - 0s - loss: 1.9553\n",
      "Epoch 62/150\n",
      "88/88 - 0s - loss: 1.9539\n",
      "Epoch 63/150\n",
      "88/88 - 0s - loss: 1.9540\n",
      "Epoch 64/150\n",
      "88/88 - 0s - loss: 1.9544\n",
      "Epoch 65/150\n",
      "88/88 - 0s - loss: 1.9523\n",
      "Epoch 66/150\n",
      "88/88 - 0s - loss: 1.9520\n",
      "Epoch 67/150\n",
      "88/88 - 0s - loss: 1.9534\n",
      "Epoch 68/150\n",
      "88/88 - 0s - loss: 1.9502\n",
      "Epoch 69/150\n",
      "88/88 - 0s - loss: 1.9505\n",
      "Epoch 70/150\n",
      "88/88 - 0s - loss: 1.9497\n",
      "Epoch 71/150\n",
      "88/88 - 0s - loss: 1.9516\n",
      "Epoch 72/150\n",
      "88/88 - 0s - loss: 1.9466\n",
      "Epoch 73/150\n",
      "88/88 - 0s - loss: 1.9486\n",
      "Epoch 74/150\n",
      "88/88 - 0s - loss: 1.9488\n",
      "Epoch 75/150\n",
      "88/88 - 0s - loss: 1.9486\n",
      "Epoch 76/150\n",
      "88/88 - 0s - loss: 1.9465\n",
      "Epoch 77/150\n",
      "88/88 - 0s - loss: 1.9451\n",
      "Epoch 78/150\n",
      "88/88 - 0s - loss: 1.9445\n",
      "Epoch 79/150\n",
      "88/88 - 0s - loss: 1.9459\n",
      "Epoch 80/150\n",
      "88/88 - 0s - loss: 1.9433\n",
      "Epoch 81/150\n",
      "88/88 - 0s - loss: 1.9435\n",
      "Epoch 82/150\n",
      "88/88 - 0s - loss: 1.9436\n",
      "Epoch 83/150\n",
      "88/88 - 0s - loss: 1.9424\n",
      "Epoch 84/150\n",
      "88/88 - 0s - loss: 1.9443\n",
      "Epoch 85/150\n",
      "88/88 - 0s - loss: 1.9408\n",
      "Epoch 86/150\n",
      "88/88 - 0s - loss: 1.9407\n",
      "Epoch 87/150\n",
      "88/88 - 0s - loss: 1.9413\n",
      "Epoch 88/150\n",
      "88/88 - 0s - loss: 1.9378\n",
      "Epoch 89/150\n",
      "88/88 - 0s - loss: 1.9391\n",
      "Epoch 90/150\n",
      "88/88 - 0s - loss: 1.9367\n",
      "Epoch 91/150\n",
      "88/88 - 0s - loss: 1.9369\n",
      "Epoch 92/150\n",
      "88/88 - 0s - loss: 1.9365\n",
      "Epoch 93/150\n",
      "88/88 - 0s - loss: 1.9354\n",
      "Epoch 94/150\n",
      "88/88 - 0s - loss: 1.9346\n",
      "Epoch 95/150\n",
      "88/88 - 0s - loss: 1.9340\n",
      "Epoch 96/150\n",
      "88/88 - 0s - loss: 1.9341\n",
      "Epoch 97/150\n",
      "88/88 - 0s - loss: 1.9339\n",
      "Epoch 98/150\n",
      "88/88 - 0s - loss: 1.9318\n",
      "Epoch 99/150\n",
      "88/88 - 0s - loss: 1.9325\n",
      "Epoch 100/150\n",
      "88/88 - 0s - loss: 1.9334\n",
      "Epoch 101/150\n",
      "88/88 - 0s - loss: 1.9313\n",
      "Epoch 102/150\n",
      "88/88 - 0s - loss: 1.9321\n",
      "Epoch 103/150\n",
      "88/88 - 0s - loss: 1.9317\n",
      "Epoch 104/150\n",
      "88/88 - 0s - loss: 1.9323\n",
      "Epoch 105/150\n",
      "88/88 - 0s - loss: 1.9295\n",
      "Epoch 106/150\n",
      "88/88 - 0s - loss: 1.9291\n",
      "Epoch 107/150\n",
      "88/88 - 0s - loss: 1.9285\n",
      "Epoch 108/150\n",
      "88/88 - 0s - loss: 1.9284\n",
      "Epoch 109/150\n",
      "88/88 - 0s - loss: 1.9273\n",
      "Epoch 110/150\n",
      "88/88 - 0s - loss: 1.9279\n",
      "Epoch 111/150\n",
      "88/88 - 0s - loss: 1.9272\n",
      "Epoch 112/150\n",
      "88/88 - 0s - loss: 1.9293\n",
      "Epoch 113/150\n",
      "88/88 - 0s - loss: 1.9282\n",
      "Epoch 114/150\n",
      "88/88 - 0s - loss: 1.9273\n",
      "Epoch 115/150\n",
      "88/88 - 0s - loss: 1.9261\n",
      "Epoch 116/150\n",
      "88/88 - 0s - loss: 1.9279\n",
      "Epoch 117/150\n",
      "88/88 - 0s - loss: 1.9270\n",
      "Epoch 118/150\n",
      "88/88 - 0s - loss: 1.9275\n",
      "Epoch 119/150\n",
      "88/88 - 0s - loss: 1.9260\n",
      "Epoch 120/150\n",
      "88/88 - 0s - loss: 1.9267\n",
      "Epoch 121/150\n",
      "88/88 - 0s - loss: 1.9270\n",
      "Epoch 122/150\n",
      "88/88 - 0s - loss: 1.9262\n",
      "Epoch 123/150\n",
      "88/88 - 0s - loss: 1.9252\n",
      "Epoch 124/150\n",
      "88/88 - 0s - loss: 1.9257\n",
      "Epoch 125/150\n",
      "88/88 - 0s - loss: 1.9264\n",
      "Epoch 126/150\n",
      "88/88 - 0s - loss: 1.9244\n",
      "Epoch 127/150\n",
      "88/88 - 0s - loss: 1.9244\n",
      "Epoch 128/150\n",
      "88/88 - 0s - loss: 1.9245\n",
      "Epoch 129/150\n",
      "88/88 - 0s - loss: 1.9238\n",
      "Epoch 130/150\n",
      "88/88 - 0s - loss: 1.9258\n",
      "Epoch 131/150\n",
      "88/88 - 0s - loss: 1.9249\n",
      "Epoch 132/150\n",
      "88/88 - 0s - loss: 1.9264\n",
      "Epoch 133/150\n",
      "88/88 - 0s - loss: 1.9244\n",
      "Epoch 134/150\n",
      "88/88 - 0s - loss: 1.9233\n",
      "Epoch 135/150\n",
      "88/88 - 0s - loss: 1.9230\n",
      "Epoch 136/150\n",
      "88/88 - 0s - loss: 1.9244\n",
      "Epoch 137/150\n",
      "88/88 - 0s - loss: 1.9235\n",
      "Epoch 138/150\n",
      "88/88 - 0s - loss: 1.9230\n",
      "Epoch 139/150\n",
      "88/88 - 0s - loss: 1.9224\n",
      "Epoch 140/150\n",
      "88/88 - 0s - loss: 1.9245\n",
      "Epoch 141/150\n",
      "88/88 - 0s - loss: 1.9211\n",
      "Epoch 142/150\n",
      "88/88 - 0s - loss: 1.9225\n",
      "Epoch 143/150\n",
      "88/88 - 0s - loss: 1.9201\n",
      "Epoch 144/150\n",
      "88/88 - 0s - loss: 1.9217\n",
      "Epoch 145/150\n",
      "88/88 - 0s - loss: 1.9210\n",
      "Epoch 146/150\n",
      "88/88 - 0s - loss: 1.9199\n",
      "Epoch 147/150\n",
      "88/88 - 0s - loss: 1.9209\n",
      "Epoch 148/150\n",
      "88/88 - 0s - loss: 1.9219\n",
      "Epoch 149/150\n",
      "88/88 - 0s - loss: 1.9222\n",
      "Epoch 150/150\n",
      "88/88 - 0s - loss: 1.9231\n"
     ]
    },
    {
     "data": {
      "text/plain": [
       "<tensorflow.python.keras.callbacks.History at 0x7f5cdc02a160>"
      ]
     },
     "execution_count": 18,
     "metadata": {},
     "output_type": "execute_result"
    }
   ],
   "source": [
    "model.fit(X_train, y_train, epochs=150, batch_size=32, verbose=2)"
   ]
  },
  {
   "cell_type": "markdown",
   "metadata": {},
   "source": [
    "Evaluate on the test set\n"
   ]
  },
  {
   "cell_type": "code",
   "execution_count": 19,
   "metadata": {},
   "outputs": [],
   "source": [
    "from sklearn.metrics import accuracy_score\n",
    "from numpy import argmax"
   ]
  },
  {
   "cell_type": "code",
   "execution_count": 20,
   "metadata": {},
   "outputs": [],
   "source": [
    "yhat = model.predict(X_test)"
   ]
  },
  {
   "cell_type": "code",
   "execution_count": 21,
   "metadata": {},
   "outputs": [],
   "source": [
    "yhat = argmax(yhat, axis=-1).astype('int')"
   ]
  },
  {
   "cell_type": "code",
   "execution_count": 22,
   "metadata": {},
   "outputs": [],
   "source": [
    "acc = accuracy_score(y_test, yhat)"
   ]
  },
  {
   "cell_type": "code",
   "execution_count": 23,
   "metadata": {},
   "outputs": [
    {
     "name": "stdout",
     "output_type": "stream",
     "text": [
      "Accuracy: 0.283\n"
     ]
    }
   ],
   "source": [
    "print(f'Accuracy: {acc:.3f}')"
   ]
  }
 ],
 "metadata": {
  "kernelspec": {
   "display_name": "Python 3",
   "language": "python",
   "name": "python3"
  },
  "language_info": {
   "codemirror_mode": {
    "name": "ipython",
    "version": 3
   },
   "file_extension": ".py",
   "mimetype": "text/x-python",
   "name": "python",
   "nbconvert_exporter": "python",
   "pygments_lexer": "ipython3",
   "version": "3.8.10"
  }
 },
 "nbformat": 4,
 "nbformat_minor": 4
}
