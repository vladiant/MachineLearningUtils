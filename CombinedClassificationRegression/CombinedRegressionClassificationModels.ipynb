{
 "cells": [
  {
   "cell_type": "markdown",
   "metadata": {},
   "source": [
    "# Combined Regression and Classification Models"
   ]
  },
  {
   "cell_type": "markdown",
   "metadata": {},
   "source": [
    "https://machinelearningmastery.com/neural-network-models-for-combined-classification-and-regression/"
   ]
  },
  {
   "cell_type": "markdown",
   "metadata": {},
   "source": [
    "## Load and sumamrize the abalone dataset"
   ]
  },
  {
   "cell_type": "code",
   "execution_count": 1,
   "metadata": {},
   "outputs": [],
   "source": [
    "from pandas import read_csv\n",
    "from matplotlib import pyplot"
   ]
  },
  {
   "cell_type": "markdown",
   "metadata": {},
   "source": [
    "Load dataset"
   ]
  },
  {
   "cell_type": "code",
   "execution_count": 2,
   "metadata": {},
   "outputs": [],
   "source": [
    "# https://raw.githubusercontent.com/jbrownlee/Datasets/master/abalone.csv\n",
    "dataframe = read_csv('abalone.csv', header=None)"
   ]
  },
  {
   "cell_type": "markdown",
   "metadata": {},
   "source": [
    "Summarize shape"
   ]
  },
  {
   "cell_type": "code",
   "execution_count": 3,
   "metadata": {},
   "outputs": [
    {
     "data": {
      "text/plain": [
       "(4177, 9)"
      ]
     },
     "execution_count": 3,
     "metadata": {},
     "output_type": "execute_result"
    }
   ],
   "source": [
    "dataframe.shape"
   ]
  },
  {
   "cell_type": "markdown",
   "metadata": {},
   "source": [
    "Summarize first few lines"
   ]
  },
  {
   "cell_type": "code",
   "execution_count": 4,
   "metadata": {},
   "outputs": [
    {
     "data": {
      "text/html": [
       "<div>\n",
       "<style scoped>\n",
       "    .dataframe tbody tr th:only-of-type {\n",
       "        vertical-align: middle;\n",
       "    }\n",
       "\n",
       "    .dataframe tbody tr th {\n",
       "        vertical-align: top;\n",
       "    }\n",
       "\n",
       "    .dataframe thead th {\n",
       "        text-align: right;\n",
       "    }\n",
       "</style>\n",
       "<table border=\"1\" class=\"dataframe\">\n",
       "  <thead>\n",
       "    <tr style=\"text-align: right;\">\n",
       "      <th></th>\n",
       "      <th>0</th>\n",
       "      <th>1</th>\n",
       "      <th>2</th>\n",
       "      <th>3</th>\n",
       "      <th>4</th>\n",
       "      <th>5</th>\n",
       "      <th>6</th>\n",
       "      <th>7</th>\n",
       "      <th>8</th>\n",
       "    </tr>\n",
       "  </thead>\n",
       "  <tbody>\n",
       "    <tr>\n",
       "      <th>0</th>\n",
       "      <td>M</td>\n",
       "      <td>0.455</td>\n",
       "      <td>0.365</td>\n",
       "      <td>0.095</td>\n",
       "      <td>0.5140</td>\n",
       "      <td>0.2245</td>\n",
       "      <td>0.1010</td>\n",
       "      <td>0.150</td>\n",
       "      <td>15</td>\n",
       "    </tr>\n",
       "    <tr>\n",
       "      <th>1</th>\n",
       "      <td>M</td>\n",
       "      <td>0.350</td>\n",
       "      <td>0.265</td>\n",
       "      <td>0.090</td>\n",
       "      <td>0.2255</td>\n",
       "      <td>0.0995</td>\n",
       "      <td>0.0485</td>\n",
       "      <td>0.070</td>\n",
       "      <td>7</td>\n",
       "    </tr>\n",
       "    <tr>\n",
       "      <th>2</th>\n",
       "      <td>F</td>\n",
       "      <td>0.530</td>\n",
       "      <td>0.420</td>\n",
       "      <td>0.135</td>\n",
       "      <td>0.6770</td>\n",
       "      <td>0.2565</td>\n",
       "      <td>0.1415</td>\n",
       "      <td>0.210</td>\n",
       "      <td>9</td>\n",
       "    </tr>\n",
       "    <tr>\n",
       "      <th>3</th>\n",
       "      <td>M</td>\n",
       "      <td>0.440</td>\n",
       "      <td>0.365</td>\n",
       "      <td>0.125</td>\n",
       "      <td>0.5160</td>\n",
       "      <td>0.2155</td>\n",
       "      <td>0.1140</td>\n",
       "      <td>0.155</td>\n",
       "      <td>10</td>\n",
       "    </tr>\n",
       "    <tr>\n",
       "      <th>4</th>\n",
       "      <td>I</td>\n",
       "      <td>0.330</td>\n",
       "      <td>0.255</td>\n",
       "      <td>0.080</td>\n",
       "      <td>0.2050</td>\n",
       "      <td>0.0895</td>\n",
       "      <td>0.0395</td>\n",
       "      <td>0.055</td>\n",
       "      <td>7</td>\n",
       "    </tr>\n",
       "  </tbody>\n",
       "</table>\n",
       "</div>"
      ],
      "text/plain": [
       "   0      1      2      3       4       5       6      7   8\n",
       "0  M  0.455  0.365  0.095  0.5140  0.2245  0.1010  0.150  15\n",
       "1  M  0.350  0.265  0.090  0.2255  0.0995  0.0485  0.070   7\n",
       "2  F  0.530  0.420  0.135  0.6770  0.2565  0.1415  0.210   9\n",
       "3  M  0.440  0.365  0.125  0.5160  0.2155  0.1140  0.155  10\n",
       "4  I  0.330  0.255  0.080  0.2050  0.0895  0.0395  0.055   7"
      ]
     },
     "execution_count": 4,
     "metadata": {},
     "output_type": "execute_result"
    }
   ],
   "source": [
    "dataframe.head()"
   ]
  },
  {
   "cell_type": "markdown",
   "metadata": {},
   "source": [
    "## Regression model"
   ]
  },
  {
   "cell_type": "markdown",
   "metadata": {},
   "source": [
    "Split into input (X) and output (y) variables"
   ]
  },
  {
   "cell_type": "code",
   "execution_count": 5,
   "metadata": {},
   "outputs": [],
   "source": [
    "dataset = dataframe.values"
   ]
  },
  {
   "cell_type": "code",
   "execution_count": 6,
   "metadata": {},
   "outputs": [],
   "source": [
    "X, y = dataset[:, 1:-1], dataset[:,-1]"
   ]
  },
  {
   "cell_type": "code",
   "execution_count": 7,
   "metadata": {},
   "outputs": [],
   "source": [
    "X, y = X.astype('float'), y.astype('float')"
   ]
  },
  {
   "cell_type": "code",
   "execution_count": 8,
   "metadata": {},
   "outputs": [],
   "source": [
    "n_features = X.shape[1]"
   ]
  },
  {
   "cell_type": "markdown",
   "metadata": {},
   "source": [
    "Encode strings to integer"
   ]
  },
  {
   "cell_type": "code",
   "execution_count": 9,
   "metadata": {},
   "outputs": [],
   "source": [
    "from sklearn.preprocessing import LabelEncoder\n",
    "from numpy import unique"
   ]
  },
  {
   "cell_type": "code",
   "execution_count": 10,
   "metadata": {},
   "outputs": [],
   "source": [
    "y_class = LabelEncoder().fit_transform(y)"
   ]
  },
  {
   "cell_type": "code",
   "execution_count": 11,
   "metadata": {},
   "outputs": [],
   "source": [
    "n_class = len(unique(y))"
   ]
  },
  {
   "cell_type": "markdown",
   "metadata": {},
   "source": [
    "Split data into train and test sets"
   ]
  },
  {
   "cell_type": "code",
   "execution_count": 12,
   "metadata": {},
   "outputs": [],
   "source": [
    "from sklearn.model_selection import train_test_split"
   ]
  },
  {
   "cell_type": "code",
   "execution_count": 13,
   "metadata": {},
   "outputs": [],
   "source": [
    "X_train, X_test, y_train, y_test, y_train_class, y_test_class = train_test_split(X, y, y_class, test_size=0.33, random_state=1)"
   ]
  },
  {
   "cell_type": "markdown",
   "metadata": {},
   "source": [
    "Define the Keras model"
   ]
  },
  {
   "cell_type": "code",
   "execution_count": 14,
   "metadata": {},
   "outputs": [],
   "source": [
    "from tensorflow.keras.models import Model\n",
    "from tensorflow.keras.layers import Input, Dense"
   ]
  },
  {
   "cell_type": "markdown",
   "metadata": {},
   "source": [
    "Input"
   ]
  },
  {
   "cell_type": "code",
   "execution_count": 15,
   "metadata": {},
   "outputs": [],
   "source": [
    "visible = Input(shape=(n_features,))\n",
    "hidden1 = Dense(20, activation='relu', kernel_initializer='he_normal')(visible)\n",
    "hidden2 = Dense(10, activation='relu', kernel_initializer='he_normal')(hidden1)"
   ]
  },
  {
   "cell_type": "markdown",
   "metadata": {},
   "source": [
    "Regression output"
   ]
  },
  {
   "cell_type": "code",
   "execution_count": 16,
   "metadata": {},
   "outputs": [],
   "source": [
    "out_reg = Dense(1, activation='linear')(hidden2)"
   ]
  },
  {
   "cell_type": "markdown",
   "metadata": {},
   "source": [
    "Classification output"
   ]
  },
  {
   "cell_type": "code",
   "execution_count": 17,
   "metadata": {},
   "outputs": [],
   "source": [
    "out_clas = Dense(n_class, activation='softmax')(hidden2)"
   ]
  },
  {
   "cell_type": "markdown",
   "metadata": {},
   "source": [
    "Define model"
   ]
  },
  {
   "cell_type": "code",
   "execution_count": 18,
   "metadata": {},
   "outputs": [],
   "source": [
    "model = Model(inputs=visible, outputs=[out_reg, out_clas])"
   ]
  },
  {
   "cell_type": "markdown",
   "metadata": {},
   "source": [
    "Compile the Keras model"
   ]
  },
  {
   "cell_type": "code",
   "execution_count": 19,
   "metadata": {},
   "outputs": [],
   "source": [
    "model.compile(loss=['mse', 'sparse_categorical_crossentropy'], optimizer='adam')"
   ]
  },
  {
   "cell_type": "markdown",
   "metadata": {},
   "source": [
    "Plot graph of model"
   ]
  },
  {
   "cell_type": "code",
   "execution_count": 20,
   "metadata": {},
   "outputs": [],
   "source": [
    "from tensorflow.keras.utils import plot_model"
   ]
  },
  {
   "cell_type": "code",
   "execution_count": 21,
   "metadata": {},
   "outputs": [
    {
     "data": {
      "image/png": "[encoded data removed]",
      "text/plain": [
       "<IPython.core.display.Image object>"
      ]
     },
     "execution_count": 21,
     "metadata": {},
     "output_type": "execute_result"
    }
   ],
   "source": [
    "plot_model(model, show_shapes=True)"
   ]
  },
  {
   "cell_type": "markdown",
   "metadata": {},
   "source": [
    "Fit the Keras model on the dataset"
   ]
  },
  {
   "cell_type": "code",
   "execution_count": 22,
   "metadata": {},
   "outputs": [
    {
     "name": "stdout",
     "output_type": "stream",
     "text": [
      "Epoch 1/150\n",
      "88/88 - 0s - loss: 109.2932 - dense_2_loss: 106.0904 - dense_3_loss: 3.2029\n",
      "Epoch 2/150\n",
      "88/88 - 0s - loss: 74.2374 - dense_2_loss: 71.4086 - dense_3_loss: 2.8287\n",
      "Epoch 3/150\n",
      "88/88 - 0s - loss: 25.8948 - dense_2_loss: 23.2759 - dense_3_loss: 2.6189\n",
      "Epoch 4/150\n",
      "88/88 - 0s - loss: 9.6772 - dense_2_loss: 7.1266 - dense_3_loss: 2.5505\n",
      "Epoch 5/150\n",
      "88/88 - 0s - loss: 9.3954 - dense_2_loss: 6.8869 - dense_3_loss: 2.5084\n",
      "Epoch 6/150\n",
      "88/88 - 0s - loss: 9.2854 - dense_2_loss: 6.7918 - dense_3_loss: 2.4936\n",
      "Epoch 7/150\n",
      "88/88 - 0s - loss: 9.1876 - dense_2_loss: 6.7029 - dense_3_loss: 2.4848\n",
      "Epoch 8/150\n",
      "88/88 - 0s - loss: 9.0785 - dense_2_loss: 6.6046 - dense_3_loss: 2.4740\n",
      "Epoch 9/150\n",
      "88/88 - 0s - loss: 8.9795 - dense_2_loss: 6.5116 - dense_3_loss: 2.4679\n",
      "Epoch 10/150\n",
      "88/88 - 0s - loss: 8.8605 - dense_2_loss: 6.4014 - dense_3_loss: 2.4591\n",
      "Epoch 11/150\n",
      "88/88 - 0s - loss: 8.7464 - dense_2_loss: 6.2945 - dense_3_loss: 2.4519\n",
      "Epoch 12/150\n",
      "88/88 - 0s - loss: 8.6398 - dense_2_loss: 6.1964 - dense_3_loss: 2.4435\n",
      "Epoch 13/150\n",
      "88/88 - 0s - loss: 8.5137 - dense_2_loss: 6.0771 - dense_3_loss: 2.4366\n",
      "Epoch 14/150\n",
      "88/88 - 0s - loss: 8.4131 - dense_2_loss: 5.9847 - dense_3_loss: 2.4284\n",
      "Epoch 15/150\n",
      "88/88 - 0s - loss: 8.3059 - dense_2_loss: 5.8863 - dense_3_loss: 2.4196\n",
      "Epoch 16/150\n",
      "88/88 - 0s - loss: 8.2020 - dense_2_loss: 5.7920 - dense_3_loss: 2.4100\n",
      "Epoch 17/150\n",
      "88/88 - 0s - loss: 8.0823 - dense_2_loss: 5.6821 - dense_3_loss: 2.4002\n",
      "Epoch 18/150\n",
      "88/88 - 0s - loss: 8.0298 - dense_2_loss: 5.6403 - dense_3_loss: 2.3895\n",
      "Epoch 19/150\n",
      "88/88 - 0s - loss: 7.9088 - dense_2_loss: 5.5305 - dense_3_loss: 2.3783\n",
      "Epoch 20/150\n",
      "88/88 - 0s - loss: 7.8460 - dense_2_loss: 5.4801 - dense_3_loss: 2.3659\n",
      "Epoch 21/150\n",
      "88/88 - 0s - loss: 7.7767 - dense_2_loss: 5.4226 - dense_3_loss: 2.3541\n",
      "Epoch 22/150\n",
      "88/88 - 0s - loss: 7.6972 - dense_2_loss: 5.3542 - dense_3_loss: 2.3430\n",
      "Epoch 23/150\n",
      "88/88 - 0s - loss: 7.6662 - dense_2_loss: 5.3349 - dense_3_loss: 2.3313\n",
      "Epoch 24/150\n",
      "88/88 - 0s - loss: 7.5906 - dense_2_loss: 5.2728 - dense_3_loss: 2.3177\n",
      "Epoch 25/150\n",
      "88/88 - 0s - loss: 7.5748 - dense_2_loss: 5.2688 - dense_3_loss: 2.3059\n",
      "Epoch 26/150\n",
      "88/88 - 0s - loss: 7.5193 - dense_2_loss: 5.2257 - dense_3_loss: 2.2936\n",
      "Epoch 27/150\n",
      "88/88 - 0s - loss: 7.4997 - dense_2_loss: 5.2194 - dense_3_loss: 2.2803\n",
      "Epoch 28/150\n",
      "88/88 - 0s - loss: 7.4533 - dense_2_loss: 5.1856 - dense_3_loss: 2.2677\n",
      "Epoch 29/150\n",
      "88/88 - 0s - loss: 7.4605 - dense_2_loss: 5.2023 - dense_3_loss: 2.2582\n",
      "Epoch 30/150\n",
      "88/88 - 0s - loss: 7.4201 - dense_2_loss: 5.1726 - dense_3_loss: 2.2475\n",
      "Epoch 31/150\n",
      "88/88 - 0s - loss: 7.4116 - dense_2_loss: 5.1765 - dense_3_loss: 2.2351\n",
      "Epoch 32/150\n",
      "88/88 - 0s - loss: 7.3712 - dense_2_loss: 5.1454 - dense_3_loss: 2.2258\n",
      "Epoch 33/150\n",
      "88/88 - 0s - loss: 7.3605 - dense_2_loss: 5.1445 - dense_3_loss: 2.2160\n",
      "Epoch 34/150\n",
      "88/88 - 0s - loss: 7.3680 - dense_2_loss: 5.1607 - dense_3_loss: 2.2074\n",
      "Epoch 35/150\n",
      "88/88 - 0s - loss: 7.3199 - dense_2_loss: 5.1218 - dense_3_loss: 2.1981\n",
      "Epoch 36/150\n",
      "88/88 - 0s - loss: 7.3280 - dense_2_loss: 5.1372 - dense_3_loss: 2.1909\n",
      "Epoch 37/150\n",
      "88/88 - 0s - loss: 7.2779 - dense_2_loss: 5.0969 - dense_3_loss: 2.1809\n",
      "Epoch 38/150\n",
      "88/88 - 0s - loss: 7.2837 - dense_2_loss: 5.1093 - dense_3_loss: 2.1744\n",
      "Epoch 39/150\n",
      "88/88 - 0s - loss: 7.2522 - dense_2_loss: 5.0861 - dense_3_loss: 2.1661\n",
      "Epoch 40/150\n",
      "88/88 - 0s - loss: 7.2707 - dense_2_loss: 5.1112 - dense_3_loss: 2.1595\n",
      "Epoch 41/150\n",
      "88/88 - 0s - loss: 7.2667 - dense_2_loss: 5.1123 - dense_3_loss: 2.1544\n",
      "Epoch 42/150\n",
      "88/88 - 0s - loss: 7.2126 - dense_2_loss: 5.0640 - dense_3_loss: 2.1486\n",
      "Epoch 43/150\n",
      "88/88 - 0s - loss: 7.2028 - dense_2_loss: 5.0614 - dense_3_loss: 2.1415\n",
      "Epoch 44/150\n",
      "88/88 - 0s - loss: 7.1878 - dense_2_loss: 5.0533 - dense_3_loss: 2.1346\n",
      "Epoch 45/150\n",
      "88/88 - 0s - loss: 7.1686 - dense_2_loss: 5.0368 - dense_3_loss: 2.1318\n",
      "Epoch 46/150\n",
      "88/88 - 0s - loss: 7.1588 - dense_2_loss: 5.0321 - dense_3_loss: 2.1266\n",
      "Epoch 47/150\n",
      "88/88 - 0s - loss: 7.1704 - dense_2_loss: 5.0480 - dense_3_loss: 2.1224\n",
      "Epoch 48/150\n",
      "88/88 - 0s - loss: 7.1242 - dense_2_loss: 5.0087 - dense_3_loss: 2.1156\n",
      "Epoch 49/150\n",
      "88/88 - 0s - loss: 7.1119 - dense_2_loss: 4.9991 - dense_3_loss: 2.1129\n",
      "Epoch 50/150\n",
      "88/88 - 0s - loss: 7.1493 - dense_2_loss: 5.0389 - dense_3_loss: 2.1105\n",
      "Epoch 51/150\n",
      "88/88 - 0s - loss: 7.1238 - dense_2_loss: 5.0187 - dense_3_loss: 2.1051\n",
      "Epoch 52/150\n",
      "88/88 - 0s - loss: 7.1075 - dense_2_loss: 5.0057 - dense_3_loss: 2.1019\n",
      "Epoch 53/150\n",
      "88/88 - 0s - loss: 7.0762 - dense_2_loss: 4.9758 - dense_3_loss: 2.1004\n",
      "Epoch 54/150\n",
      "88/88 - 0s - loss: 7.0607 - dense_2_loss: 4.9663 - dense_3_loss: 2.0943\n",
      "Epoch 55/150\n",
      "88/88 - 0s - loss: 7.1013 - dense_2_loss: 5.0072 - dense_3_loss: 2.0941\n",
      "Epoch 56/150\n",
      "88/88 - 0s - loss: 7.0647 - dense_2_loss: 4.9757 - dense_3_loss: 2.0889\n",
      "Epoch 57/150\n",
      "88/88 - 0s - loss: 7.0661 - dense_2_loss: 4.9791 - dense_3_loss: 2.0869\n",
      "Epoch 58/150\n",
      "88/88 - 0s - loss: 7.0486 - dense_2_loss: 4.9652 - dense_3_loss: 2.0833\n",
      "Epoch 59/150\n",
      "88/88 - 0s - loss: 7.0773 - dense_2_loss: 4.9968 - dense_3_loss: 2.0805\n",
      "Epoch 60/150\n",
      "88/88 - 0s - loss: 7.0666 - dense_2_loss: 4.9881 - dense_3_loss: 2.0786\n",
      "Epoch 61/150\n",
      "88/88 - 0s - loss: 7.0316 - dense_2_loss: 4.9560 - dense_3_loss: 2.0756\n",
      "Epoch 62/150\n",
      "88/88 - 0s - loss: 7.0145 - dense_2_loss: 4.9404 - dense_3_loss: 2.0741\n",
      "Epoch 63/150\n",
      "88/88 - 0s - loss: 7.0115 - dense_2_loss: 4.9430 - dense_3_loss: 2.0685\n",
      "Epoch 64/150\n",
      "88/88 - 0s - loss: 7.0465 - dense_2_loss: 4.9755 - dense_3_loss: 2.0710\n",
      "Epoch 65/150\n",
      "88/88 - 0s - loss: 7.0126 - dense_2_loss: 4.9456 - dense_3_loss: 2.0670\n",
      "Epoch 66/150\n",
      "88/88 - 0s - loss: 7.0131 - dense_2_loss: 4.9480 - dense_3_loss: 2.0651\n",
      "Epoch 67/150\n",
      "88/88 - 0s - loss: 6.9990 - dense_2_loss: 4.9377 - dense_3_loss: 2.0613\n",
      "Epoch 68/150\n",
      "88/88 - 0s - loss: 6.9732 - dense_2_loss: 4.9131 - dense_3_loss: 2.0601\n",
      "Epoch 69/150\n",
      "88/88 - 0s - loss: 6.9888 - dense_2_loss: 4.9305 - dense_3_loss: 2.0582\n",
      "Epoch 70/150\n",
      "88/88 - 0s - loss: 6.9771 - dense_2_loss: 4.9214 - dense_3_loss: 2.0557\n",
      "Epoch 71/150\n",
      "88/88 - 0s - loss: 6.9847 - dense_2_loss: 4.9312 - dense_3_loss: 2.0535\n",
      "Epoch 72/150\n",
      "88/88 - 0s - loss: 6.9929 - dense_2_loss: 4.9397 - dense_3_loss: 2.0532\n",
      "Epoch 73/150\n",
      "88/88 - 0s - loss: 6.9900 - dense_2_loss: 4.9389 - dense_3_loss: 2.0512\n",
      "Epoch 74/150\n",
      "88/88 - 0s - loss: 6.9583 - dense_2_loss: 4.9095 - dense_3_loss: 2.0489\n",
      "Epoch 75/150\n",
      "88/88 - 0s - loss: 6.9501 - dense_2_loss: 4.9050 - dense_3_loss: 2.0452\n",
      "Epoch 76/150\n",
      "88/88 - 0s - loss: 6.9583 - dense_2_loss: 4.9124 - dense_3_loss: 2.0459\n",
      "Epoch 77/150\n",
      "88/88 - 0s - loss: 6.9443 - dense_2_loss: 4.9029 - dense_3_loss: 2.0414\n",
      "Epoch 78/150\n",
      "88/88 - 0s - loss: 6.9776 - dense_2_loss: 4.9330 - dense_3_loss: 2.0446\n",
      "Epoch 79/150\n",
      "88/88 - 0s - loss: 6.9253 - dense_2_loss: 4.8873 - dense_3_loss: 2.0380\n",
      "Epoch 80/150\n",
      "88/88 - 0s - loss: 6.9182 - dense_2_loss: 4.8808 - dense_3_loss: 2.0374\n",
      "Epoch 81/150\n",
      "88/88 - 0s - loss: 6.9620 - dense_2_loss: 4.9247 - dense_3_loss: 2.0373\n",
      "Epoch 82/150\n",
      "88/88 - 0s - loss: 6.9169 - dense_2_loss: 4.8828 - dense_3_loss: 2.0341\n",
      "Epoch 83/150\n",
      "88/88 - 0s - loss: 6.9379 - dense_2_loss: 4.9049 - dense_3_loss: 2.0331\n",
      "Epoch 84/150\n",
      "88/88 - 0s - loss: 6.9128 - dense_2_loss: 4.8787 - dense_3_loss: 2.0341\n",
      "Epoch 85/150\n",
      "88/88 - 0s - loss: 6.9018 - dense_2_loss: 4.8724 - dense_3_loss: 2.0295\n",
      "Epoch 86/150\n",
      "88/88 - 0s - loss: 6.9031 - dense_2_loss: 4.8754 - dense_3_loss: 2.0277\n",
      "Epoch 87/150\n",
      "88/88 - 0s - loss: 6.8891 - dense_2_loss: 4.8624 - dense_3_loss: 2.0267\n",
      "Epoch 88/150\n",
      "88/88 - 0s - loss: 6.8835 - dense_2_loss: 4.8577 - dense_3_loss: 2.0258\n",
      "Epoch 89/150\n",
      "88/88 - 0s - loss: 6.8879 - dense_2_loss: 4.8647 - dense_3_loss: 2.0232\n",
      "Epoch 90/150\n",
      "88/88 - 0s - loss: 6.8803 - dense_2_loss: 4.8570 - dense_3_loss: 2.0233\n",
      "Epoch 91/150\n",
      "88/88 - 0s - loss: 6.8621 - dense_2_loss: 4.8417 - dense_3_loss: 2.0204\n",
      "Epoch 92/150\n",
      "88/88 - 0s - loss: 6.8776 - dense_2_loss: 4.8558 - dense_3_loss: 2.0218\n",
      "Epoch 93/150\n",
      "88/88 - 0s - loss: 6.8646 - dense_2_loss: 4.8458 - dense_3_loss: 2.0188\n",
      "Epoch 94/150\n",
      "88/88 - 0s - loss: 6.8817 - dense_2_loss: 4.8635 - dense_3_loss: 2.0183\n",
      "Epoch 95/150\n",
      "88/88 - 0s - loss: 6.8533 - dense_2_loss: 4.8374 - dense_3_loss: 2.0159\n",
      "Epoch 96/150\n",
      "88/88 - 0s - loss: 6.8532 - dense_2_loss: 4.8395 - dense_3_loss: 2.0137\n",
      "Epoch 97/150\n",
      "88/88 - 0s - loss: 6.8596 - dense_2_loss: 4.8451 - dense_3_loss: 2.0145\n"
     ]
    },
    {
     "name": "stdout",
     "output_type": "stream",
     "text": [
      "Epoch 98/150\n",
      "88/88 - 0s - loss: 6.8291 - dense_2_loss: 4.8181 - dense_3_loss: 2.0110\n",
      "Epoch 99/150\n",
      "88/88 - 0s - loss: 6.8641 - dense_2_loss: 4.8518 - dense_3_loss: 2.0123\n",
      "Epoch 100/150\n",
      "88/88 - 0s - loss: 6.8229 - dense_2_loss: 4.8147 - dense_3_loss: 2.0082\n",
      "Epoch 101/150\n",
      "88/88 - 0s - loss: 6.8203 - dense_2_loss: 4.8138 - dense_3_loss: 2.0065\n",
      "Epoch 102/150\n",
      "88/88 - 0s - loss: 6.8325 - dense_2_loss: 4.8253 - dense_3_loss: 2.0071\n",
      "Epoch 103/150\n",
      "88/88 - 0s - loss: 6.8899 - dense_2_loss: 4.8823 - dense_3_loss: 2.0076\n",
      "Epoch 104/150\n",
      "88/88 - 0s - loss: 6.8346 - dense_2_loss: 4.8290 - dense_3_loss: 2.0056\n",
      "Epoch 105/150\n",
      "88/88 - 0s - loss: 6.8082 - dense_2_loss: 4.8066 - dense_3_loss: 2.0016\n",
      "Epoch 106/150\n",
      "88/88 - 0s - loss: 6.8256 - dense_2_loss: 4.8230 - dense_3_loss: 2.0025\n",
      "Epoch 107/150\n",
      "88/88 - 0s - loss: 6.8023 - dense_2_loss: 4.8026 - dense_3_loss: 1.9997\n",
      "Epoch 108/150\n",
      "88/88 - 0s - loss: 6.7908 - dense_2_loss: 4.7931 - dense_3_loss: 1.9977\n",
      "Epoch 109/150\n",
      "88/88 - 0s - loss: 6.7881 - dense_2_loss: 4.7901 - dense_3_loss: 1.9981\n",
      "Epoch 110/150\n",
      "88/88 - 0s - loss: 6.7908 - dense_2_loss: 4.7940 - dense_3_loss: 1.9968\n",
      "Epoch 111/150\n",
      "88/88 - 0s - loss: 6.7988 - dense_2_loss: 4.8029 - dense_3_loss: 1.9959\n",
      "Epoch 112/150\n",
      "88/88 - 0s - loss: 6.7739 - dense_2_loss: 4.7791 - dense_3_loss: 1.9947\n",
      "Epoch 113/150\n",
      "88/88 - 0s - loss: 6.7979 - dense_2_loss: 4.8026 - dense_3_loss: 1.9953\n",
      "Epoch 114/150\n",
      "88/88 - 0s - loss: 6.7814 - dense_2_loss: 4.7881 - dense_3_loss: 1.9934\n",
      "Epoch 115/150\n",
      "88/88 - 0s - loss: 6.7658 - dense_2_loss: 4.7741 - dense_3_loss: 1.9917\n",
      "Epoch 116/150\n",
      "88/88 - 0s - loss: 6.7670 - dense_2_loss: 4.7767 - dense_3_loss: 1.9903\n",
      "Epoch 117/150\n",
      "88/88 - 0s - loss: 6.7565 - dense_2_loss: 4.7662 - dense_3_loss: 1.9903\n",
      "Epoch 118/150\n",
      "88/88 - 0s - loss: 6.7919 - dense_2_loss: 4.8032 - dense_3_loss: 1.9887\n",
      "Epoch 119/150\n",
      "88/88 - 0s - loss: 6.7458 - dense_2_loss: 4.7586 - dense_3_loss: 1.9871\n",
      "Epoch 120/150\n",
      "88/88 - 0s - loss: 6.7480 - dense_2_loss: 4.7618 - dense_3_loss: 1.9862\n",
      "Epoch 121/150\n",
      "88/88 - 0s - loss: 6.7494 - dense_2_loss: 4.7641 - dense_3_loss: 1.9854\n",
      "Epoch 122/150\n",
      "88/88 - 0s - loss: 6.7551 - dense_2_loss: 4.7707 - dense_3_loss: 1.9844\n",
      "Epoch 123/150\n",
      "88/88 - 0s - loss: 6.7465 - dense_2_loss: 4.7616 - dense_3_loss: 1.9848\n",
      "Epoch 124/150\n",
      "88/88 - 0s - loss: 6.7531 - dense_2_loss: 4.7685 - dense_3_loss: 1.9846\n",
      "Epoch 125/150\n",
      "88/88 - 0s - loss: 6.7365 - dense_2_loss: 4.7533 - dense_3_loss: 1.9832\n",
      "Epoch 126/150\n",
      "88/88 - 0s - loss: 6.7310 - dense_2_loss: 4.7480 - dense_3_loss: 1.9830\n",
      "Epoch 127/150\n",
      "88/88 - 0s - loss: 6.7307 - dense_2_loss: 4.7480 - dense_3_loss: 1.9827\n",
      "Epoch 128/150\n",
      "88/88 - 0s - loss: 6.7174 - dense_2_loss: 4.7355 - dense_3_loss: 1.9819\n",
      "Epoch 129/150\n",
      "88/88 - 0s - loss: 6.7318 - dense_2_loss: 4.7509 - dense_3_loss: 1.9810\n",
      "Epoch 130/150\n",
      "88/88 - 0s - loss: 6.7007 - dense_2_loss: 4.7202 - dense_3_loss: 1.9805\n",
      "Epoch 131/150\n",
      "88/88 - 0s - loss: 6.7177 - dense_2_loss: 4.7354 - dense_3_loss: 1.9824\n",
      "Epoch 132/150\n",
      "88/88 - 0s - loss: 6.7051 - dense_2_loss: 4.7254 - dense_3_loss: 1.9797\n",
      "Epoch 133/150\n",
      "88/88 - 0s - loss: 6.7456 - dense_2_loss: 4.7653 - dense_3_loss: 1.9803\n",
      "Epoch 134/150\n",
      "88/88 - 0s - loss: 6.7007 - dense_2_loss: 4.7240 - dense_3_loss: 1.9767\n",
      "Epoch 135/150\n",
      "88/88 - 0s - loss: 6.6875 - dense_2_loss: 4.7104 - dense_3_loss: 1.9771\n",
      "Epoch 136/150\n",
      "88/88 - 0s - loss: 6.7156 - dense_2_loss: 4.7385 - dense_3_loss: 1.9771\n",
      "Epoch 137/150\n",
      "88/88 - 0s - loss: 6.6996 - dense_2_loss: 4.7231 - dense_3_loss: 1.9765\n",
      "Epoch 138/150\n",
      "88/88 - 0s - loss: 6.6852 - dense_2_loss: 4.7077 - dense_3_loss: 1.9775\n",
      "Epoch 139/150\n",
      "88/88 - 0s - loss: 6.6919 - dense_2_loss: 4.7156 - dense_3_loss: 1.9763\n",
      "Epoch 140/150\n",
      "88/88 - 0s - loss: 6.6912 - dense_2_loss: 4.7155 - dense_3_loss: 1.9758\n",
      "Epoch 141/150\n",
      "88/88 - 0s - loss: 6.6999 - dense_2_loss: 4.7257 - dense_3_loss: 1.9743\n",
      "Epoch 142/150\n",
      "88/88 - 0s - loss: 6.6902 - dense_2_loss: 4.7161 - dense_3_loss: 1.9741\n",
      "Epoch 143/150\n",
      "88/88 - 0s - loss: 6.6935 - dense_2_loss: 4.7207 - dense_3_loss: 1.9728\n",
      "Epoch 144/150\n",
      "88/88 - 0s - loss: 6.6594 - dense_2_loss: 4.6881 - dense_3_loss: 1.9712\n",
      "Epoch 145/150\n",
      "88/88 - 0s - loss: 6.6526 - dense_2_loss: 4.6812 - dense_3_loss: 1.9714\n",
      "Epoch 146/150\n",
      "88/88 - 0s - loss: 6.6794 - dense_2_loss: 4.7093 - dense_3_loss: 1.9701\n",
      "Epoch 147/150\n",
      "88/88 - 0s - loss: 6.6613 - dense_2_loss: 4.6890 - dense_3_loss: 1.9723\n",
      "Epoch 148/150\n",
      "88/88 - 0s - loss: 6.6555 - dense_2_loss: 4.6853 - dense_3_loss: 1.9701\n",
      "Epoch 149/150\n",
      "88/88 - 0s - loss: 6.6519 - dense_2_loss: 4.6822 - dense_3_loss: 1.9697\n",
      "Epoch 150/150\n",
      "88/88 - 0s - loss: 6.6379 - dense_2_loss: 4.6700 - dense_3_loss: 1.9678\n"
     ]
    },
    {
     "data": {
      "text/plain": [
       "<tensorflow.python.keras.callbacks.History at 0x7f05d21b2070>"
      ]
     },
     "execution_count": 22,
     "metadata": {},
     "output_type": "execute_result"
    }
   ],
   "source": [
    "model.fit(X_train, [y_train, y_train_class], epochs=150, batch_size=32, verbose=2)"
   ]
  },
  {
   "cell_type": "markdown",
   "metadata": {},
   "source": [
    "Make predictions on the test set"
   ]
  },
  {
   "cell_type": "code",
   "execution_count": 23,
   "metadata": {},
   "outputs": [],
   "source": [
    "yhat1, yhat2 = model.predict(X_test)"
   ]
  },
  {
   "cell_type": "markdown",
   "metadata": {},
   "source": [
    "Calculate error of the regression model"
   ]
  },
  {
   "cell_type": "code",
   "execution_count": 24,
   "metadata": {},
   "outputs": [],
   "source": [
    "from sklearn.metrics import mean_absolute_error"
   ]
  },
  {
   "cell_type": "code",
   "execution_count": 25,
   "metadata": {},
   "outputs": [],
   "source": [
    "error = mean_absolute_error(y_test, yhat1)"
   ]
  },
  {
   "cell_type": "code",
   "execution_count": 26,
   "metadata": {},
   "outputs": [
    {
     "name": "stdout",
     "output_type": "stream",
     "text": [
      "MAE: 1.551\n"
     ]
    }
   ],
   "source": [
    "print(f'MAE: {error:.3f}')"
   ]
  },
  {
   "cell_type": "markdown",
   "metadata": {},
   "source": [
    "Evaluate accuracy for classification error"
   ]
  },
  {
   "cell_type": "code",
   "execution_count": 27,
   "metadata": {},
   "outputs": [],
   "source": [
    "from sklearn.metrics import accuracy_score\n",
    "from numpy import argmax"
   ]
  },
  {
   "cell_type": "code",
   "execution_count": 28,
   "metadata": {},
   "outputs": [],
   "source": [
    "yhat2 = argmax(yhat2, axis=-1).astype('int')"
   ]
  },
  {
   "cell_type": "code",
   "execution_count": 29,
   "metadata": {},
   "outputs": [],
   "source": [
    "acc = accuracy_score(y_test, yhat2)"
   ]
  },
  {
   "cell_type": "code",
   "execution_count": 30,
   "metadata": {},
   "outputs": [
    {
     "name": "stdout",
     "output_type": "stream",
     "text": [
      "Accuracy: 0.178\n"
     ]
    }
   ],
   "source": [
    "print(f'Accuracy: {acc:.3f}')"
   ]
  }
 ],
 "metadata": {
  "kernelspec": {
   "display_name": "Python 3",
   "language": "python",
   "name": "python3"
  },
  "language_info": {
   "codemirror_mode": {
    "name": "ipython",
    "version": 3
   },
   "file_extension": ".py",
   "mimetype": "text/x-python",
   "name": "python",
   "nbconvert_exporter": "python",
   "pygments_lexer": "ipython3",
   "version": "3.8.10"
  }
 },
 "nbformat": 4,
 "nbformat_minor": 4
}
