{
 "cells": [
  {
   "cell_type": "markdown",
   "metadata": {},
   "source": [
    "# Single Model for Regression and Classification"
   ]
  },
  {
   "cell_type": "markdown",
   "metadata": {},
   "source": [
    "https://machinelearningmastery.com/neural-network-models-for-combined-classification-and-regression/"
   ]
  },
  {
   "cell_type": "markdown",
   "metadata": {},
   "source": [
    "## Load and sumamrize the abalone dataset"
   ]
  },
  {
   "cell_type": "code",
   "execution_count": 1,
   "metadata": {},
   "outputs": [],
   "source": [
    "from pandas import read_csv\n",
    "from matplotlib import pyplot"
   ]
  },
  {
   "cell_type": "markdown",
   "metadata": {},
   "source": [
    "Load dataset"
   ]
  },
  {
   "cell_type": "code",
   "execution_count": 2,
   "metadata": {},
   "outputs": [],
   "source": [
    "# https://raw.githubusercontent.com/jbrownlee/Datasets/master/abalone.csv\n",
    "dataframe = read_csv('abalone.csv', header=None)"
   ]
  },
  {
   "cell_type": "markdown",
   "metadata": {},
   "source": [
    "Summarize shape"
   ]
  },
  {
   "cell_type": "code",
   "execution_count": 3,
   "metadata": {},
   "outputs": [
    {
     "data": {
      "text/plain": [
       "(4177, 9)"
      ]
     },
     "execution_count": 3,
     "metadata": {},
     "output_type": "execute_result"
    }
   ],
   "source": [
    "dataframe.shape"
   ]
  },
  {
   "cell_type": "markdown",
   "metadata": {},
   "source": [
    "Summarize first few lines"
   ]
  },
  {
   "cell_type": "code",
   "execution_count": 4,
   "metadata": {},
   "outputs": [
    {
     "data": {
      "text/html": [
       "<div>\n",
       "<style scoped>\n",
       "    .dataframe tbody tr th:only-of-type {\n",
       "        vertical-align: middle;\n",
       "    }\n",
       "\n",
       "    .dataframe tbody tr th {\n",
       "        vertical-align: top;\n",
       "    }\n",
       "\n",
       "    .dataframe thead th {\n",
       "        text-align: right;\n",
       "    }\n",
       "</style>\n",
       "<table border=\"1\" class=\"dataframe\">\n",
       "  <thead>\n",
       "    <tr style=\"text-align: right;\">\n",
       "      <th></th>\n",
       "      <th>0</th>\n",
       "      <th>1</th>\n",
       "      <th>2</th>\n",
       "      <th>3</th>\n",
       "      <th>4</th>\n",
       "      <th>5</th>\n",
       "      <th>6</th>\n",
       "      <th>7</th>\n",
       "      <th>8</th>\n",
       "    </tr>\n",
       "  </thead>\n",
       "  <tbody>\n",
       "    <tr>\n",
       "      <th>0</th>\n",
       "      <td>M</td>\n",
       "      <td>0.455</td>\n",
       "      <td>0.365</td>\n",
       "      <td>0.095</td>\n",
       "      <td>0.5140</td>\n",
       "      <td>0.2245</td>\n",
       "      <td>0.1010</td>\n",
       "      <td>0.150</td>\n",
       "      <td>15</td>\n",
       "    </tr>\n",
       "    <tr>\n",
       "      <th>1</th>\n",
       "      <td>M</td>\n",
       "      <td>0.350</td>\n",
       "      <td>0.265</td>\n",
       "      <td>0.090</td>\n",
       "      <td>0.2255</td>\n",
       "      <td>0.0995</td>\n",
       "      <td>0.0485</td>\n",
       "      <td>0.070</td>\n",
       "      <td>7</td>\n",
       "    </tr>\n",
       "    <tr>\n",
       "      <th>2</th>\n",
       "      <td>F</td>\n",
       "      <td>0.530</td>\n",
       "      <td>0.420</td>\n",
       "      <td>0.135</td>\n",
       "      <td>0.6770</td>\n",
       "      <td>0.2565</td>\n",
       "      <td>0.1415</td>\n",
       "      <td>0.210</td>\n",
       "      <td>9</td>\n",
       "    </tr>\n",
       "    <tr>\n",
       "      <th>3</th>\n",
       "      <td>M</td>\n",
       "      <td>0.440</td>\n",
       "      <td>0.365</td>\n",
       "      <td>0.125</td>\n",
       "      <td>0.5160</td>\n",
       "      <td>0.2155</td>\n",
       "      <td>0.1140</td>\n",
       "      <td>0.155</td>\n",
       "      <td>10</td>\n",
       "    </tr>\n",
       "    <tr>\n",
       "      <th>4</th>\n",
       "      <td>I</td>\n",
       "      <td>0.330</td>\n",
       "      <td>0.255</td>\n",
       "      <td>0.080</td>\n",
       "      <td>0.2050</td>\n",
       "      <td>0.0895</td>\n",
       "      <td>0.0395</td>\n",
       "      <td>0.055</td>\n",
       "      <td>7</td>\n",
       "    </tr>\n",
       "  </tbody>\n",
       "</table>\n",
       "</div>"
      ],
      "text/plain": [
       "   0      1      2      3       4       5       6      7   8\n",
       "0  M  0.455  0.365  0.095  0.5140  0.2245  0.1010  0.150  15\n",
       "1  M  0.350  0.265  0.090  0.2255  0.0995  0.0485  0.070   7\n",
       "2  F  0.530  0.420  0.135  0.6770  0.2565  0.1415  0.210   9\n",
       "3  M  0.440  0.365  0.125  0.5160  0.2155  0.1140  0.155  10\n",
       "4  I  0.330  0.255  0.080  0.2050  0.0895  0.0395  0.055   7"
      ]
     },
     "execution_count": 4,
     "metadata": {},
     "output_type": "execute_result"
    }
   ],
   "source": [
    "dataframe.head()"
   ]
  },
  {
   "cell_type": "markdown",
   "metadata": {},
   "source": [
    "## Regression model"
   ]
  },
  {
   "cell_type": "markdown",
   "metadata": {},
   "source": [
    "Split into input (X) and output (y) variables"
   ]
  },
  {
   "cell_type": "code",
   "execution_count": 5,
   "metadata": {},
   "outputs": [],
   "source": [
    "dataset = dataframe.values"
   ]
  },
  {
   "cell_type": "code",
   "execution_count": 6,
   "metadata": {},
   "outputs": [],
   "source": [
    "X, y = dataset[:, 1:-1], dataset[:,-1]"
   ]
  },
  {
   "cell_type": "code",
   "execution_count": 7,
   "metadata": {},
   "outputs": [],
   "source": [
    "X, y = X.astype('float'), y.astype('float')"
   ]
  },
  {
   "cell_type": "code",
   "execution_count": 8,
   "metadata": {},
   "outputs": [],
   "source": [
    "n_features = X.shape[1]"
   ]
  },
  {
   "cell_type": "markdown",
   "metadata": {},
   "source": [
    "Split data into train and test sets"
   ]
  },
  {
   "cell_type": "code",
   "execution_count": 9,
   "metadata": {},
   "outputs": [],
   "source": [
    "from sklearn.model_selection import train_test_split"
   ]
  },
  {
   "cell_type": "code",
   "execution_count": 10,
   "metadata": {},
   "outputs": [],
   "source": [
    "X_train, X_test, y_train, y_test = train_test_split(X, y, test_size=0.33, random_state=1)"
   ]
  },
  {
   "cell_type": "markdown",
   "metadata": {},
   "source": [
    "Define the Keras model"
   ]
  },
  {
   "cell_type": "code",
   "execution_count": 11,
   "metadata": {},
   "outputs": [],
   "source": [
    "from tensorflow.keras.models import Sequential\n",
    "from tensorflow.keras.layers import Dense"
   ]
  },
  {
   "cell_type": "code",
   "execution_count": 12,
   "metadata": {},
   "outputs": [],
   "source": [
    "model = Sequential()"
   ]
  },
  {
   "cell_type": "code",
   "execution_count": 13,
   "metadata": {},
   "outputs": [],
   "source": [
    "model.add(Dense(20, input_dim=n_features, activation='relu', kernel_initializer='he_normal'))\n",
    "model.add(Dense(10, activation='relu', kernel_initializer='he_normal'))\n",
    "model.add(Dense(1, activation='linear'))"
   ]
  },
  {
   "cell_type": "markdown",
   "metadata": {},
   "source": [
    "Compile the Keras model"
   ]
  },
  {
   "cell_type": "code",
   "execution_count": 14,
   "metadata": {},
   "outputs": [],
   "source": [
    "model.compile(loss='mse', optimizer='adam')"
   ]
  },
  {
   "cell_type": "markdown",
   "metadata": {},
   "source": [
    "Fit the Keras model on the dataset"
   ]
  },
  {
   "cell_type": "code",
   "execution_count": 15,
   "metadata": {},
   "outputs": [
    {
     "name": "stdout",
     "output_type": "stream",
     "text": [
      "Epoch 1/150\n",
      "88/88 - 0s - loss: 72.2341\n",
      "Epoch 2/150\n",
      "88/88 - 0s - loss: 23.0014\n",
      "Epoch 3/150\n",
      "88/88 - 0s - loss: 8.7343\n",
      "Epoch 4/150\n",
      "88/88 - 0s - loss: 8.0184\n",
      "Epoch 5/150\n",
      "88/88 - 0s - loss: 7.5508\n",
      "Epoch 6/150\n",
      "88/88 - 0s - loss: 7.2714\n",
      "Epoch 7/150\n",
      "88/88 - 0s - loss: 7.1004\n",
      "Epoch 8/150\n",
      "88/88 - 0s - loss: 6.9813\n",
      "Epoch 9/150\n",
      "88/88 - 0s - loss: 6.9103\n",
      "Epoch 10/150\n",
      "88/88 - 0s - loss: 6.8080\n",
      "Epoch 11/150\n",
      "88/88 - 0s - loss: 6.7280\n",
      "Epoch 12/150\n",
      "88/88 - 0s - loss: 6.6587\n",
      "Epoch 13/150\n",
      "88/88 - 0s - loss: 6.6076\n",
      "Epoch 14/150\n",
      "88/88 - 0s - loss: 6.4782\n",
      "Epoch 15/150\n",
      "88/88 - 0s - loss: 6.4015\n",
      "Epoch 16/150\n",
      "88/88 - 0s - loss: 6.3161\n",
      "Epoch 17/150\n",
      "88/88 - 0s - loss: 6.1902\n",
      "Epoch 18/150\n",
      "88/88 - 0s - loss: 6.0548\n",
      "Epoch 19/150\n",
      "88/88 - 0s - loss: 5.9583\n",
      "Epoch 20/150\n",
      "88/88 - 0s - loss: 5.8368\n",
      "Epoch 21/150\n",
      "88/88 - 0s - loss: 5.7169\n",
      "Epoch 22/150\n",
      "88/88 - 0s - loss: 5.6111\n",
      "Epoch 23/150\n",
      "88/88 - 0s - loss: 5.5158\n",
      "Epoch 24/150\n",
      "88/88 - 0s - loss: 5.4357\n",
      "Epoch 25/150\n",
      "88/88 - 0s - loss: 5.3514\n",
      "Epoch 26/150\n",
      "88/88 - 0s - loss: 5.3062\n",
      "Epoch 27/150\n",
      "88/88 - 0s - loss: 5.2939\n",
      "Epoch 28/150\n",
      "88/88 - 0s - loss: 5.1916\n",
      "Epoch 29/150\n",
      "88/88 - 0s - loss: 5.1592\n",
      "Epoch 30/150\n",
      "88/88 - 0s - loss: 5.1345\n",
      "Epoch 31/150\n",
      "88/88 - 0s - loss: 5.0879\n",
      "Epoch 32/150\n",
      "88/88 - 0s - loss: 5.0981\n",
      "Epoch 33/150\n",
      "88/88 - 0s - loss: 5.0579\n",
      "Epoch 34/150\n",
      "88/88 - 0s - loss: 5.0734\n",
      "Epoch 35/150\n",
      "88/88 - 0s - loss: 5.0558\n",
      "Epoch 36/150\n",
      "88/88 - 0s - loss: 5.0121\n",
      "Epoch 37/150\n",
      "88/88 - 0s - loss: 5.0324\n",
      "Epoch 38/150\n",
      "88/88 - 0s - loss: 4.9928\n",
      "Epoch 39/150\n",
      "88/88 - 0s - loss: 5.0022\n",
      "Epoch 40/150\n",
      "88/88 - 0s - loss: 4.9998\n",
      "Epoch 41/150\n",
      "88/88 - 0s - loss: 5.0068\n",
      "Epoch 42/150\n",
      "88/88 - 0s - loss: 4.9699\n",
      "Epoch 43/150\n",
      "88/88 - 0s - loss: 5.0151\n",
      "Epoch 44/150\n",
      "88/88 - 0s - loss: 4.9630\n",
      "Epoch 45/150\n",
      "88/88 - 0s - loss: 5.0368\n",
      "Epoch 46/150\n",
      "88/88 - 0s - loss: 4.9854\n",
      "Epoch 47/150\n",
      "88/88 - 0s - loss: 4.9761\n",
      "Epoch 48/150\n",
      "88/88 - 0s - loss: 4.9367\n",
      "Epoch 49/150\n",
      "88/88 - 0s - loss: 4.9346\n",
      "Epoch 50/150\n",
      "88/88 - 0s - loss: 4.9265\n",
      "Epoch 51/150\n",
      "88/88 - 0s - loss: 4.9673\n",
      "Epoch 52/150\n",
      "88/88 - 0s - loss: 4.9363\n",
      "Epoch 53/150\n",
      "88/88 - 0s - loss: 4.9188\n",
      "Epoch 54/150\n",
      "88/88 - 0s - loss: 4.8882\n",
      "Epoch 55/150\n",
      "88/88 - 0s - loss: 4.8889\n",
      "Epoch 56/150\n",
      "88/88 - 0s - loss: 4.9153\n",
      "Epoch 57/150\n",
      "88/88 - 0s - loss: 4.9005\n",
      "Epoch 58/150\n",
      "88/88 - 0s - loss: 4.8906\n",
      "Epoch 59/150\n",
      "88/88 - 0s - loss: 4.8838\n",
      "Epoch 60/150\n",
      "88/88 - 0s - loss: 4.8762\n",
      "Epoch 61/150\n",
      "88/88 - 0s - loss: 4.9015\n",
      "Epoch 62/150\n",
      "88/88 - 0s - loss: 4.8903\n",
      "Epoch 63/150\n",
      "88/88 - 0s - loss: 4.8832\n",
      "Epoch 64/150\n",
      "88/88 - 0s - loss: 4.8675\n",
      "Epoch 65/150\n",
      "88/88 - 0s - loss: 4.8542\n",
      "Epoch 66/150\n",
      "88/88 - 0s - loss: 4.8614\n",
      "Epoch 67/150\n",
      "88/88 - 0s - loss: 4.9173\n",
      "Epoch 68/150\n",
      "88/88 - 0s - loss: 4.8926\n",
      "Epoch 69/150\n",
      "88/88 - 0s - loss: 4.8381\n",
      "Epoch 70/150\n",
      "88/88 - 0s - loss: 4.8433\n",
      "Epoch 71/150\n",
      "88/88 - 0s - loss: 4.8532\n",
      "Epoch 72/150\n",
      "88/88 - 0s - loss: 4.8413\n",
      "Epoch 73/150\n",
      "88/88 - 0s - loss: 4.8874\n",
      "Epoch 74/150\n",
      "88/88 - 0s - loss: 4.8327\n",
      "Epoch 75/150\n",
      "88/88 - 0s - loss: 4.8464\n",
      "Epoch 76/150\n",
      "88/88 - 0s - loss: 4.8194\n",
      "Epoch 77/150\n",
      "88/88 - 0s - loss: 4.8499\n",
      "Epoch 78/150\n",
      "88/88 - 0s - loss: 4.8331\n",
      "Epoch 79/150\n",
      "88/88 - 0s - loss: 4.8467\n",
      "Epoch 80/150\n",
      "88/88 - 0s - loss: 4.8151\n",
      "Epoch 81/150\n",
      "88/88 - 0s - loss: 4.8066\n",
      "Epoch 82/150\n",
      "88/88 - 0s - loss: 4.8117\n",
      "Epoch 83/150\n",
      "88/88 - 0s - loss: 4.7958\n",
      "Epoch 84/150\n",
      "88/88 - 0s - loss: 4.8214\n",
      "Epoch 85/150\n",
      "88/88 - 0s - loss: 4.7895\n",
      "Epoch 86/150\n",
      "88/88 - 0s - loss: 4.7967\n",
      "Epoch 87/150\n",
      "88/88 - 0s - loss: 4.7739\n",
      "Epoch 88/150\n",
      "88/88 - 0s - loss: 4.7982\n",
      "Epoch 89/150\n",
      "88/88 - 0s - loss: 4.7795\n",
      "Epoch 90/150\n",
      "88/88 - 0s - loss: 4.7619\n",
      "Epoch 91/150\n",
      "88/88 - 0s - loss: 4.7510\n",
      "Epoch 92/150\n",
      "88/88 - 0s - loss: 4.7643\n",
      "Epoch 93/150\n",
      "88/88 - 0s - loss: 4.7490\n",
      "Epoch 94/150\n",
      "88/88 - 0s - loss: 4.7254\n",
      "Epoch 95/150\n",
      "88/88 - 0s - loss: 4.7243\n",
      "Epoch 96/150\n",
      "88/88 - 0s - loss: 4.7412\n",
      "Epoch 97/150\n",
      "88/88 - 0s - loss: 4.7092\n",
      "Epoch 98/150\n",
      "88/88 - 0s - loss: 4.7125\n",
      "Epoch 99/150\n",
      "88/88 - 0s - loss: 4.7448\n",
      "Epoch 100/150\n",
      "88/88 - 0s - loss: 4.7240\n",
      "Epoch 101/150\n",
      "88/88 - 0s - loss: 4.7023\n",
      "Epoch 102/150\n",
      "88/88 - 0s - loss: 4.7234\n",
      "Epoch 103/150\n",
      "88/88 - 0s - loss: 4.7242\n",
      "Epoch 104/150\n",
      "88/88 - 0s - loss: 4.7000\n",
      "Epoch 105/150\n",
      "88/88 - 0s - loss: 4.6919\n",
      "Epoch 106/150\n",
      "88/88 - 0s - loss: 4.7105\n",
      "Epoch 107/150\n",
      "88/88 - 0s - loss: 4.6723\n",
      "Epoch 108/150\n",
      "88/88 - 0s - loss: 4.6682\n",
      "Epoch 109/150\n",
      "88/88 - 0s - loss: 4.6443\n",
      "Epoch 110/150\n",
      "88/88 - 0s - loss: 4.6845\n",
      "Epoch 111/150\n",
      "88/88 - 0s - loss: 4.6552\n",
      "Epoch 112/150\n",
      "88/88 - 0s - loss: 4.6584\n",
      "Epoch 113/150\n",
      "88/88 - 0s - loss: 4.6707\n",
      "Epoch 114/150\n",
      "88/88 - 0s - loss: 4.6744\n",
      "Epoch 115/150\n",
      "88/88 - 0s - loss: 4.6217\n",
      "Epoch 116/150\n",
      "88/88 - 0s - loss: 4.6562\n",
      "Epoch 117/150\n",
      "88/88 - 0s - loss: 4.6419\n",
      "Epoch 118/150\n",
      "88/88 - 0s - loss: 4.6376\n",
      "Epoch 119/150\n",
      "88/88 - 0s - loss: 4.6176\n",
      "Epoch 120/150\n",
      "88/88 - 0s - loss: 4.6173\n",
      "Epoch 121/150\n",
      "88/88 - 0s - loss: 4.6152\n",
      "Epoch 122/150\n",
      "88/88 - 0s - loss: 4.6141\n",
      "Epoch 123/150\n",
      "88/88 - 0s - loss: 4.6271\n",
      "Epoch 124/150\n",
      "88/88 - 0s - loss: 4.6167\n",
      "Epoch 125/150\n",
      "88/88 - 0s - loss: 4.6062\n",
      "Epoch 126/150\n",
      "88/88 - 0s - loss: 4.6038\n",
      "Epoch 127/150\n",
      "88/88 - 0s - loss: 4.6042\n",
      "Epoch 128/150\n",
      "88/88 - 0s - loss: 4.6236\n",
      "Epoch 129/150\n",
      "88/88 - 0s - loss: 4.6063\n",
      "Epoch 130/150\n",
      "88/88 - 0s - loss: 4.6018\n",
      "Epoch 131/150\n",
      "88/88 - 0s - loss: 4.5966\n",
      "Epoch 132/150\n",
      "88/88 - 0s - loss: 4.5981\n",
      "Epoch 133/150\n",
      "88/88 - 0s - loss: 4.5996\n",
      "Epoch 134/150\n",
      "88/88 - 0s - loss: 4.5872\n",
      "Epoch 135/150\n",
      "88/88 - 0s - loss: 4.5947\n",
      "Epoch 136/150\n",
      "88/88 - 0s - loss: 4.5907\n",
      "Epoch 137/150\n",
      "88/88 - 0s - loss: 4.5861\n",
      "Epoch 138/150\n",
      "88/88 - 0s - loss: 4.5917\n",
      "Epoch 139/150\n",
      "88/88 - 0s - loss: 4.5938\n",
      "Epoch 140/150\n",
      "88/88 - 0s - loss: 4.5786\n",
      "Epoch 141/150\n",
      "88/88 - 0s - loss: 4.5877\n",
      "Epoch 142/150\n",
      "88/88 - 0s - loss: 4.5928\n",
      "Epoch 143/150\n",
      "88/88 - 0s - loss: 4.5937\n",
      "Epoch 144/150\n",
      "88/88 - 0s - loss: 4.5609\n",
      "Epoch 145/150\n",
      "88/88 - 0s - loss: 4.5796\n",
      "Epoch 146/150\n",
      "88/88 - 0s - loss: 4.5758\n",
      "Epoch 147/150\n",
      "88/88 - 0s - loss: 4.5945\n",
      "Epoch 148/150\n",
      "88/88 - 0s - loss: 4.5874\n",
      "Epoch 149/150\n",
      "88/88 - 0s - loss: 4.5813\n",
      "Epoch 150/150\n",
      "88/88 - 0s - loss: 4.5524\n"
     ]
    },
    {
     "data": {
      "text/plain": [
       "<tensorflow.python.keras.callbacks.History at 0x7efec007ebe0>"
      ]
     },
     "execution_count": 15,
     "metadata": {},
     "output_type": "execute_result"
    }
   ],
   "source": [
    "model.fit(X_train, y_train, epochs=150, batch_size=32, verbose=2)"
   ]
  },
  {
   "cell_type": "markdown",
   "metadata": {},
   "source": [
    "Evaluate on the test set"
   ]
  },
  {
   "cell_type": "code",
   "execution_count": 16,
   "metadata": {},
   "outputs": [],
   "source": [
    "from sklearn.metrics import mean_absolute_error"
   ]
  },
  {
   "cell_type": "code",
   "execution_count": 17,
   "metadata": {},
   "outputs": [],
   "source": [
    "yhat = model.predict(X_test)"
   ]
  },
  {
   "cell_type": "code",
   "execution_count": 18,
   "metadata": {},
   "outputs": [],
   "source": [
    "error = mean_absolute_error(y_test, yhat)"
   ]
  },
  {
   "cell_type": "code",
   "execution_count": 19,
   "metadata": {},
   "outputs": [
    {
     "name": "stdout",
     "output_type": "stream",
     "text": [
      "MAE: 1.559\n"
     ]
    }
   ],
   "source": [
    "print(f'MAE: {error:.3f}')"
   ]
  }
 ],
 "metadata": {
  "kernelspec": {
   "display_name": "Python 3",
   "language": "python",
   "name": "python3"
  },
  "language_info": {
   "codemirror_mode": {
    "name": "ipython",
    "version": 3
   },
   "file_extension": ".py",
   "mimetype": "text/x-python",
   "name": "python",
   "nbconvert_exporter": "python",
   "pygments_lexer": "ipython3",
   "version": "3.8.10"
  }
 },
 "nbformat": 4,
 "nbformat_minor": 4
}
